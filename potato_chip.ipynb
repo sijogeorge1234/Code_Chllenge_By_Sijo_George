{
  "nbformat": 4,
  "nbformat_minor": 0,
  "metadata": {
    "colab": {
      "provenance": [],
      "authorship_tag": "ABX9TyOOE39RXX9Hsc3T877GAtht",
      "include_colab_link": true
    },
    "kernelspec": {
      "name": "python3",
      "display_name": "Python 3"
    },
    "language_info": {
      "name": "python"
    }
  },
  "cells": [
    {
      "cell_type": "markdown",
      "metadata": {
        "id": "view-in-github",
        "colab_type": "text"
      },
      "source": [
        "<a href=\"https://colab.research.google.com/github/sijogeorge1234/Code_Chllenge_By_Sijo_George/blob/main/potato_chip.ipynb\" target=\"_parent\"><img src=\"https://colab.research.google.com/assets/colab-badge.svg\" alt=\"Open In Colab\"/></a>"
      ]
    },
    {
      "cell_type": "code",
      "source": [
        "pip install openpyxl"
      ],
      "metadata": {
        "colab": {
          "base_uri": "https://localhost:8080/"
        },
        "id": "8AeHDLYiABkn",
        "outputId": "5f4177e3-f275-4e1a-ab89-73973a8fc106"
      },
      "execution_count": 8,
      "outputs": [
        {
          "output_type": "stream",
          "name": "stdout",
          "text": [
            "Looking in indexes: https://pypi.org/simple, https://us-python.pkg.dev/colab-wheels/public/simple/\n",
            "Requirement already satisfied: openpyxl in /usr/local/lib/python3.8/dist-packages (3.0.10)\n",
            "Requirement already satisfied: et-xmlfile in /usr/local/lib/python3.8/dist-packages (from openpyxl) (1.1.0)\n"
          ]
        }
      ]
    },
    {
      "cell_type": "code",
      "source": [
        "import pandas as pd\n",
        "import numpy as np\n",
        "import seaborn as sns\n",
        "import datetime as dt\n",
        "import matplotlib.pyplot as plt\n",
        "import calendar\n",
        "from datetime import datetime\n",
        "import scipy.stats as stats\n",
        "%matplotlib inline\n",
        "base_color=sns.color_palette()[9]\n",
        "\n",
        " \n",
        "pd.set_option('display.max_rows', 1000)\n",
        "pd.set_option('display.max_columns', 1000)\n",
        "pd.set_option('display.width', 1000)\n",
        "\n",
        "\n",
        "import warnings\n",
        "warnings.simplefilter(\"ignore\")"
      ],
      "metadata": {
        "id": "J1z4CQM0AIas"
      },
      "execution_count": 9,
      "outputs": []
    },
    {
      "cell_type": "code",
      "source": [
        "Transactions=pd.read_excel('QVI_transaction_data.xlsx')"
      ],
      "metadata": {
        "id": "yXmbASz_AU3v"
      },
      "execution_count": 10,
      "outputs": []
    },
    {
      "cell_type": "code",
      "source": [
        "Transactions.head()"
      ],
      "metadata": {
        "colab": {
          "base_uri": "https://localhost:8080/",
          "height": 206
        },
        "id": "Qx85qrU0ArTJ",
        "outputId": "d1da8523-2dea-486e-e299-4bed81404490"
      },
      "execution_count": 11,
      "outputs": [
        {
          "output_type": "execute_result",
          "data": {
            "text/plain": [
              "    DATE  STORE_NBR  LYLTY_CARD_NBR  TXN_ID  PROD_NBR                                 PROD_NAME  PROD_QTY  TOT_SALES\n",
              "0  43390          1            1000       1         5    Natural Chip        Compny SeaSalt175g         2        6.0\n",
              "1  43599          1            1307     348        66                  CCs Nacho Cheese    175g         3        6.3\n",
              "2  43605          1            1343     383        61    Smiths Crinkle Cut  Chips Chicken 170g         2        2.9\n",
              "3  43329          2            2373     974        69    Smiths Chip Thinly  S/Cream&Onion 175g         5       15.0\n",
              "4  43330          2            2426    1038       108  Kettle Tortilla ChpsHny&Jlpno Chili 150g         3       13.8"
            ],
            "text/html": [
              "\n",
              "  <div id=\"df-cb613715-bf6c-4e1b-b87a-7e3819406c3c\">\n",
              "    <div class=\"colab-df-container\">\n",
              "      <div>\n",
              "<style scoped>\n",
              "    .dataframe tbody tr th:only-of-type {\n",
              "        vertical-align: middle;\n",
              "    }\n",
              "\n",
              "    .dataframe tbody tr th {\n",
              "        vertical-align: top;\n",
              "    }\n",
              "\n",
              "    .dataframe thead th {\n",
              "        text-align: right;\n",
              "    }\n",
              "</style>\n",
              "<table border=\"1\" class=\"dataframe\">\n",
              "  <thead>\n",
              "    <tr style=\"text-align: right;\">\n",
              "      <th></th>\n",
              "      <th>DATE</th>\n",
              "      <th>STORE_NBR</th>\n",
              "      <th>LYLTY_CARD_NBR</th>\n",
              "      <th>TXN_ID</th>\n",
              "      <th>PROD_NBR</th>\n",
              "      <th>PROD_NAME</th>\n",
              "      <th>PROD_QTY</th>\n",
              "      <th>TOT_SALES</th>\n",
              "    </tr>\n",
              "  </thead>\n",
              "  <tbody>\n",
              "    <tr>\n",
              "      <th>0</th>\n",
              "      <td>43390</td>\n",
              "      <td>1</td>\n",
              "      <td>1000</td>\n",
              "      <td>1</td>\n",
              "      <td>5</td>\n",
              "      <td>Natural Chip        Compny SeaSalt175g</td>\n",
              "      <td>2</td>\n",
              "      <td>6.0</td>\n",
              "    </tr>\n",
              "    <tr>\n",
              "      <th>1</th>\n",
              "      <td>43599</td>\n",
              "      <td>1</td>\n",
              "      <td>1307</td>\n",
              "      <td>348</td>\n",
              "      <td>66</td>\n",
              "      <td>CCs Nacho Cheese    175g</td>\n",
              "      <td>3</td>\n",
              "      <td>6.3</td>\n",
              "    </tr>\n",
              "    <tr>\n",
              "      <th>2</th>\n",
              "      <td>43605</td>\n",
              "      <td>1</td>\n",
              "      <td>1343</td>\n",
              "      <td>383</td>\n",
              "      <td>61</td>\n",
              "      <td>Smiths Crinkle Cut  Chips Chicken 170g</td>\n",
              "      <td>2</td>\n",
              "      <td>2.9</td>\n",
              "    </tr>\n",
              "    <tr>\n",
              "      <th>3</th>\n",
              "      <td>43329</td>\n",
              "      <td>2</td>\n",
              "      <td>2373</td>\n",
              "      <td>974</td>\n",
              "      <td>69</td>\n",
              "      <td>Smiths Chip Thinly  S/Cream&amp;Onion 175g</td>\n",
              "      <td>5</td>\n",
              "      <td>15.0</td>\n",
              "    </tr>\n",
              "    <tr>\n",
              "      <th>4</th>\n",
              "      <td>43330</td>\n",
              "      <td>2</td>\n",
              "      <td>2426</td>\n",
              "      <td>1038</td>\n",
              "      <td>108</td>\n",
              "      <td>Kettle Tortilla ChpsHny&amp;Jlpno Chili 150g</td>\n",
              "      <td>3</td>\n",
              "      <td>13.8</td>\n",
              "    </tr>\n",
              "  </tbody>\n",
              "</table>\n",
              "</div>\n",
              "      <button class=\"colab-df-convert\" onclick=\"convertToInteractive('df-cb613715-bf6c-4e1b-b87a-7e3819406c3c')\"\n",
              "              title=\"Convert this dataframe to an interactive table.\"\n",
              "              style=\"display:none;\">\n",
              "        \n",
              "  <svg xmlns=\"http://www.w3.org/2000/svg\" height=\"24px\"viewBox=\"0 0 24 24\"\n",
              "       width=\"24px\">\n",
              "    <path d=\"M0 0h24v24H0V0z\" fill=\"none\"/>\n",
              "    <path d=\"M18.56 5.44l.94 2.06.94-2.06 2.06-.94-2.06-.94-.94-2.06-.94 2.06-2.06.94zm-11 1L8.5 8.5l.94-2.06 2.06-.94-2.06-.94L8.5 2.5l-.94 2.06-2.06.94zm10 10l.94 2.06.94-2.06 2.06-.94-2.06-.94-.94-2.06-.94 2.06-2.06.94z\"/><path d=\"M17.41 7.96l-1.37-1.37c-.4-.4-.92-.59-1.43-.59-.52 0-1.04.2-1.43.59L10.3 9.45l-7.72 7.72c-.78.78-.78 2.05 0 2.83L4 21.41c.39.39.9.59 1.41.59.51 0 1.02-.2 1.41-.59l7.78-7.78 2.81-2.81c.8-.78.8-2.07 0-2.86zM5.41 20L4 18.59l7.72-7.72 1.47 1.35L5.41 20z\"/>\n",
              "  </svg>\n",
              "      </button>\n",
              "      \n",
              "  <style>\n",
              "    .colab-df-container {\n",
              "      display:flex;\n",
              "      flex-wrap:wrap;\n",
              "      gap: 12px;\n",
              "    }\n",
              "\n",
              "    .colab-df-convert {\n",
              "      background-color: #E8F0FE;\n",
              "      border: none;\n",
              "      border-radius: 50%;\n",
              "      cursor: pointer;\n",
              "      display: none;\n",
              "      fill: #1967D2;\n",
              "      height: 32px;\n",
              "      padding: 0 0 0 0;\n",
              "      width: 32px;\n",
              "    }\n",
              "\n",
              "    .colab-df-convert:hover {\n",
              "      background-color: #E2EBFA;\n",
              "      box-shadow: 0px 1px 2px rgba(60, 64, 67, 0.3), 0px 1px 3px 1px rgba(60, 64, 67, 0.15);\n",
              "      fill: #174EA6;\n",
              "    }\n",
              "\n",
              "    [theme=dark] .colab-df-convert {\n",
              "      background-color: #3B4455;\n",
              "      fill: #D2E3FC;\n",
              "    }\n",
              "\n",
              "    [theme=dark] .colab-df-convert:hover {\n",
              "      background-color: #434B5C;\n",
              "      box-shadow: 0px 1px 3px 1px rgba(0, 0, 0, 0.15);\n",
              "      filter: drop-shadow(0px 1px 2px rgba(0, 0, 0, 0.3));\n",
              "      fill: #FFFFFF;\n",
              "    }\n",
              "  </style>\n",
              "\n",
              "      <script>\n",
              "        const buttonEl =\n",
              "          document.querySelector('#df-cb613715-bf6c-4e1b-b87a-7e3819406c3c button.colab-df-convert');\n",
              "        buttonEl.style.display =\n",
              "          google.colab.kernel.accessAllowed ? 'block' : 'none';\n",
              "\n",
              "        async function convertToInteractive(key) {\n",
              "          const element = document.querySelector('#df-cb613715-bf6c-4e1b-b87a-7e3819406c3c');\n",
              "          const dataTable =\n",
              "            await google.colab.kernel.invokeFunction('convertToInteractive',\n",
              "                                                     [key], {});\n",
              "          if (!dataTable) return;\n",
              "\n",
              "          const docLinkHtml = 'Like what you see? Visit the ' +\n",
              "            '<a target=\"_blank\" href=https://colab.research.google.com/notebooks/data_table.ipynb>data table notebook</a>'\n",
              "            + ' to learn more about interactive tables.';\n",
              "          element.innerHTML = '';\n",
              "          dataTable['output_type'] = 'display_data';\n",
              "          await google.colab.output.renderOutput(dataTable, element);\n",
              "          const docLink = document.createElement('div');\n",
              "          docLink.innerHTML = docLinkHtml;\n",
              "          element.appendChild(docLink);\n",
              "        }\n",
              "      </script>\n",
              "    </div>\n",
              "  </div>\n",
              "  "
            ]
          },
          "metadata": {},
          "execution_count": 11
        }
      ]
    },
    {
      "cell_type": "code",
      "source": [
        "#checking data general information\n",
        "Transactions.info()"
      ],
      "metadata": {
        "colab": {
          "base_uri": "https://localhost:8080/"
        },
        "id": "uNX6eIgXA1O3",
        "outputId": "63bc3e60-15a7-4ef7-cfb8-2bfc2be0a4c9"
      },
      "execution_count": 12,
      "outputs": [
        {
          "output_type": "stream",
          "name": "stdout",
          "text": [
            "<class 'pandas.core.frame.DataFrame'>\n",
            "RangeIndex: 264836 entries, 0 to 264835\n",
            "Data columns (total 8 columns):\n",
            " #   Column          Non-Null Count   Dtype  \n",
            "---  ------          --------------   -----  \n",
            " 0   DATE            264836 non-null  int64  \n",
            " 1   STORE_NBR       264836 non-null  int64  \n",
            " 2   LYLTY_CARD_NBR  264836 non-null  int64  \n",
            " 3   TXN_ID          264836 non-null  int64  \n",
            " 4   PROD_NBR        264836 non-null  int64  \n",
            " 5   PROD_NAME       264836 non-null  object \n",
            " 6   PROD_QTY        264836 non-null  int64  \n",
            " 7   TOT_SALES       264836 non-null  float64\n",
            "dtypes: float64(1), int64(6), object(1)\n",
            "memory usage: 16.2+ MB\n"
          ]
        }
      ]
    },
    {
      "cell_type": "code",
      "source": [
        "#checking for duplicates\n",
        "Transactions[Transactions.duplicated()]"
      ],
      "metadata": {
        "colab": {
          "base_uri": "https://localhost:8080/",
          "height": 81
        },
        "id": "1-1MNwXFA3pz",
        "outputId": "62c1d987-ff77-4563-8529-84e8058fac21"
      },
      "execution_count": 13,
      "outputs": [
        {
          "output_type": "execute_result",
          "data": {
            "text/plain": [
              "         DATE  STORE_NBR  LYLTY_CARD_NBR  TXN_ID  PROD_NBR                               PROD_NAME  PROD_QTY  TOT_SALES\n",
              "124845  43374        107          107024  108462        45  Smiths Thinly Cut   Roast Chicken 175g         2        6.0"
            ],
            "text/html": [
              "\n",
              "  <div id=\"df-32569d4d-6e9c-48b3-9ce5-3898cdde9e90\">\n",
              "    <div class=\"colab-df-container\">\n",
              "      <div>\n",
              "<style scoped>\n",
              "    .dataframe tbody tr th:only-of-type {\n",
              "        vertical-align: middle;\n",
              "    }\n",
              "\n",
              "    .dataframe tbody tr th {\n",
              "        vertical-align: top;\n",
              "    }\n",
              "\n",
              "    .dataframe thead th {\n",
              "        text-align: right;\n",
              "    }\n",
              "</style>\n",
              "<table border=\"1\" class=\"dataframe\">\n",
              "  <thead>\n",
              "    <tr style=\"text-align: right;\">\n",
              "      <th></th>\n",
              "      <th>DATE</th>\n",
              "      <th>STORE_NBR</th>\n",
              "      <th>LYLTY_CARD_NBR</th>\n",
              "      <th>TXN_ID</th>\n",
              "      <th>PROD_NBR</th>\n",
              "      <th>PROD_NAME</th>\n",
              "      <th>PROD_QTY</th>\n",
              "      <th>TOT_SALES</th>\n",
              "    </tr>\n",
              "  </thead>\n",
              "  <tbody>\n",
              "    <tr>\n",
              "      <th>124845</th>\n",
              "      <td>43374</td>\n",
              "      <td>107</td>\n",
              "      <td>107024</td>\n",
              "      <td>108462</td>\n",
              "      <td>45</td>\n",
              "      <td>Smiths Thinly Cut   Roast Chicken 175g</td>\n",
              "      <td>2</td>\n",
              "      <td>6.0</td>\n",
              "    </tr>\n",
              "  </tbody>\n",
              "</table>\n",
              "</div>\n",
              "      <button class=\"colab-df-convert\" onclick=\"convertToInteractive('df-32569d4d-6e9c-48b3-9ce5-3898cdde9e90')\"\n",
              "              title=\"Convert this dataframe to an interactive table.\"\n",
              "              style=\"display:none;\">\n",
              "        \n",
              "  <svg xmlns=\"http://www.w3.org/2000/svg\" height=\"24px\"viewBox=\"0 0 24 24\"\n",
              "       width=\"24px\">\n",
              "    <path d=\"M0 0h24v24H0V0z\" fill=\"none\"/>\n",
              "    <path d=\"M18.56 5.44l.94 2.06.94-2.06 2.06-.94-2.06-.94-.94-2.06-.94 2.06-2.06.94zm-11 1L8.5 8.5l.94-2.06 2.06-.94-2.06-.94L8.5 2.5l-.94 2.06-2.06.94zm10 10l.94 2.06.94-2.06 2.06-.94-2.06-.94-.94-2.06-.94 2.06-2.06.94z\"/><path d=\"M17.41 7.96l-1.37-1.37c-.4-.4-.92-.59-1.43-.59-.52 0-1.04.2-1.43.59L10.3 9.45l-7.72 7.72c-.78.78-.78 2.05 0 2.83L4 21.41c.39.39.9.59 1.41.59.51 0 1.02-.2 1.41-.59l7.78-7.78 2.81-2.81c.8-.78.8-2.07 0-2.86zM5.41 20L4 18.59l7.72-7.72 1.47 1.35L5.41 20z\"/>\n",
              "  </svg>\n",
              "      </button>\n",
              "      \n",
              "  <style>\n",
              "    .colab-df-container {\n",
              "      display:flex;\n",
              "      flex-wrap:wrap;\n",
              "      gap: 12px;\n",
              "    }\n",
              "\n",
              "    .colab-df-convert {\n",
              "      background-color: #E8F0FE;\n",
              "      border: none;\n",
              "      border-radius: 50%;\n",
              "      cursor: pointer;\n",
              "      display: none;\n",
              "      fill: #1967D2;\n",
              "      height: 32px;\n",
              "      padding: 0 0 0 0;\n",
              "      width: 32px;\n",
              "    }\n",
              "\n",
              "    .colab-df-convert:hover {\n",
              "      background-color: #E2EBFA;\n",
              "      box-shadow: 0px 1px 2px rgba(60, 64, 67, 0.3), 0px 1px 3px 1px rgba(60, 64, 67, 0.15);\n",
              "      fill: #174EA6;\n",
              "    }\n",
              "\n",
              "    [theme=dark] .colab-df-convert {\n",
              "      background-color: #3B4455;\n",
              "      fill: #D2E3FC;\n",
              "    }\n",
              "\n",
              "    [theme=dark] .colab-df-convert:hover {\n",
              "      background-color: #434B5C;\n",
              "      box-shadow: 0px 1px 3px 1px rgba(0, 0, 0, 0.15);\n",
              "      filter: drop-shadow(0px 1px 2px rgba(0, 0, 0, 0.3));\n",
              "      fill: #FFFFFF;\n",
              "    }\n",
              "  </style>\n",
              "\n",
              "      <script>\n",
              "        const buttonEl =\n",
              "          document.querySelector('#df-32569d4d-6e9c-48b3-9ce5-3898cdde9e90 button.colab-df-convert');\n",
              "        buttonEl.style.display =\n",
              "          google.colab.kernel.accessAllowed ? 'block' : 'none';\n",
              "\n",
              "        async function convertToInteractive(key) {\n",
              "          const element = document.querySelector('#df-32569d4d-6e9c-48b3-9ce5-3898cdde9e90');\n",
              "          const dataTable =\n",
              "            await google.colab.kernel.invokeFunction('convertToInteractive',\n",
              "                                                     [key], {});\n",
              "          if (!dataTable) return;\n",
              "\n",
              "          const docLinkHtml = 'Like what you see? Visit the ' +\n",
              "            '<a target=\"_blank\" href=https://colab.research.google.com/notebooks/data_table.ipynb>data table notebook</a>'\n",
              "            + ' to learn more about interactive tables.';\n",
              "          element.innerHTML = '';\n",
              "          dataTable['output_type'] = 'display_data';\n",
              "          await google.colab.output.renderOutput(dataTable, element);\n",
              "          const docLink = document.createElement('div');\n",
              "          docLink.innerHTML = docLinkHtml;\n",
              "          element.appendChild(docLink);\n",
              "        }\n",
              "      </script>\n",
              "    </div>\n",
              "  </div>\n",
              "  "
            ]
          },
          "metadata": {},
          "execution_count": 13
        }
      ]
    },
    {
      "cell_type": "code",
      "source": [
        "def convert_to_datetime(num):\n",
        "    dt = datetime.fromordinal(datetime(1900, 1, 1).toordinal() + num - 2)\n",
        "    return dt"
      ],
      "metadata": {
        "id": "vKZueDmJA9LX"
      },
      "execution_count": 14,
      "outputs": []
    },
    {
      "cell_type": "code",
      "source": [
        "Transactions['DATE'] = Transactions['DATE'].apply(convert_to_datetime)\n",
        "Transactions.head()"
      ],
      "metadata": {
        "colab": {
          "base_uri": "https://localhost:8080/",
          "height": 206
        },
        "id": "l2mPRbHABCYQ",
        "outputId": "f57ae4fe-cda1-45cf-e118-42debf776cce"
      },
      "execution_count": 15,
      "outputs": [
        {
          "output_type": "execute_result",
          "data": {
            "text/plain": [
              "        DATE  STORE_NBR  LYLTY_CARD_NBR  TXN_ID  PROD_NBR                                 PROD_NAME  PROD_QTY  TOT_SALES\n",
              "0 2018-10-17          1            1000       1         5    Natural Chip        Compny SeaSalt175g         2        6.0\n",
              "1 2019-05-14          1            1307     348        66                  CCs Nacho Cheese    175g         3        6.3\n",
              "2 2019-05-20          1            1343     383        61    Smiths Crinkle Cut  Chips Chicken 170g         2        2.9\n",
              "3 2018-08-17          2            2373     974        69    Smiths Chip Thinly  S/Cream&Onion 175g         5       15.0\n",
              "4 2018-08-18          2            2426    1038       108  Kettle Tortilla ChpsHny&Jlpno Chili 150g         3       13.8"
            ],
            "text/html": [
              "\n",
              "  <div id=\"df-622cdaff-e572-429e-9f1e-23cf098b0537\">\n",
              "    <div class=\"colab-df-container\">\n",
              "      <div>\n",
              "<style scoped>\n",
              "    .dataframe tbody tr th:only-of-type {\n",
              "        vertical-align: middle;\n",
              "    }\n",
              "\n",
              "    .dataframe tbody tr th {\n",
              "        vertical-align: top;\n",
              "    }\n",
              "\n",
              "    .dataframe thead th {\n",
              "        text-align: right;\n",
              "    }\n",
              "</style>\n",
              "<table border=\"1\" class=\"dataframe\">\n",
              "  <thead>\n",
              "    <tr style=\"text-align: right;\">\n",
              "      <th></th>\n",
              "      <th>DATE</th>\n",
              "      <th>STORE_NBR</th>\n",
              "      <th>LYLTY_CARD_NBR</th>\n",
              "      <th>TXN_ID</th>\n",
              "      <th>PROD_NBR</th>\n",
              "      <th>PROD_NAME</th>\n",
              "      <th>PROD_QTY</th>\n",
              "      <th>TOT_SALES</th>\n",
              "    </tr>\n",
              "  </thead>\n",
              "  <tbody>\n",
              "    <tr>\n",
              "      <th>0</th>\n",
              "      <td>2018-10-17</td>\n",
              "      <td>1</td>\n",
              "      <td>1000</td>\n",
              "      <td>1</td>\n",
              "      <td>5</td>\n",
              "      <td>Natural Chip        Compny SeaSalt175g</td>\n",
              "      <td>2</td>\n",
              "      <td>6.0</td>\n",
              "    </tr>\n",
              "    <tr>\n",
              "      <th>1</th>\n",
              "      <td>2019-05-14</td>\n",
              "      <td>1</td>\n",
              "      <td>1307</td>\n",
              "      <td>348</td>\n",
              "      <td>66</td>\n",
              "      <td>CCs Nacho Cheese    175g</td>\n",
              "      <td>3</td>\n",
              "      <td>6.3</td>\n",
              "    </tr>\n",
              "    <tr>\n",
              "      <th>2</th>\n",
              "      <td>2019-05-20</td>\n",
              "      <td>1</td>\n",
              "      <td>1343</td>\n",
              "      <td>383</td>\n",
              "      <td>61</td>\n",
              "      <td>Smiths Crinkle Cut  Chips Chicken 170g</td>\n",
              "      <td>2</td>\n",
              "      <td>2.9</td>\n",
              "    </tr>\n",
              "    <tr>\n",
              "      <th>3</th>\n",
              "      <td>2018-08-17</td>\n",
              "      <td>2</td>\n",
              "      <td>2373</td>\n",
              "      <td>974</td>\n",
              "      <td>69</td>\n",
              "      <td>Smiths Chip Thinly  S/Cream&amp;Onion 175g</td>\n",
              "      <td>5</td>\n",
              "      <td>15.0</td>\n",
              "    </tr>\n",
              "    <tr>\n",
              "      <th>4</th>\n",
              "      <td>2018-08-18</td>\n",
              "      <td>2</td>\n",
              "      <td>2426</td>\n",
              "      <td>1038</td>\n",
              "      <td>108</td>\n",
              "      <td>Kettle Tortilla ChpsHny&amp;Jlpno Chili 150g</td>\n",
              "      <td>3</td>\n",
              "      <td>13.8</td>\n",
              "    </tr>\n",
              "  </tbody>\n",
              "</table>\n",
              "</div>\n",
              "      <button class=\"colab-df-convert\" onclick=\"convertToInteractive('df-622cdaff-e572-429e-9f1e-23cf098b0537')\"\n",
              "              title=\"Convert this dataframe to an interactive table.\"\n",
              "              style=\"display:none;\">\n",
              "        \n",
              "  <svg xmlns=\"http://www.w3.org/2000/svg\" height=\"24px\"viewBox=\"0 0 24 24\"\n",
              "       width=\"24px\">\n",
              "    <path d=\"M0 0h24v24H0V0z\" fill=\"none\"/>\n",
              "    <path d=\"M18.56 5.44l.94 2.06.94-2.06 2.06-.94-2.06-.94-.94-2.06-.94 2.06-2.06.94zm-11 1L8.5 8.5l.94-2.06 2.06-.94-2.06-.94L8.5 2.5l-.94 2.06-2.06.94zm10 10l.94 2.06.94-2.06 2.06-.94-2.06-.94-.94-2.06-.94 2.06-2.06.94z\"/><path d=\"M17.41 7.96l-1.37-1.37c-.4-.4-.92-.59-1.43-.59-.52 0-1.04.2-1.43.59L10.3 9.45l-7.72 7.72c-.78.78-.78 2.05 0 2.83L4 21.41c.39.39.9.59 1.41.59.51 0 1.02-.2 1.41-.59l7.78-7.78 2.81-2.81c.8-.78.8-2.07 0-2.86zM5.41 20L4 18.59l7.72-7.72 1.47 1.35L5.41 20z\"/>\n",
              "  </svg>\n",
              "      </button>\n",
              "      \n",
              "  <style>\n",
              "    .colab-df-container {\n",
              "      display:flex;\n",
              "      flex-wrap:wrap;\n",
              "      gap: 12px;\n",
              "    }\n",
              "\n",
              "    .colab-df-convert {\n",
              "      background-color: #E8F0FE;\n",
              "      border: none;\n",
              "      border-radius: 50%;\n",
              "      cursor: pointer;\n",
              "      display: none;\n",
              "      fill: #1967D2;\n",
              "      height: 32px;\n",
              "      padding: 0 0 0 0;\n",
              "      width: 32px;\n",
              "    }\n",
              "\n",
              "    .colab-df-convert:hover {\n",
              "      background-color: #E2EBFA;\n",
              "      box-shadow: 0px 1px 2px rgba(60, 64, 67, 0.3), 0px 1px 3px 1px rgba(60, 64, 67, 0.15);\n",
              "      fill: #174EA6;\n",
              "    }\n",
              "\n",
              "    [theme=dark] .colab-df-convert {\n",
              "      background-color: #3B4455;\n",
              "      fill: #D2E3FC;\n",
              "    }\n",
              "\n",
              "    [theme=dark] .colab-df-convert:hover {\n",
              "      background-color: #434B5C;\n",
              "      box-shadow: 0px 1px 3px 1px rgba(0, 0, 0, 0.15);\n",
              "      filter: drop-shadow(0px 1px 2px rgba(0, 0, 0, 0.3));\n",
              "      fill: #FFFFFF;\n",
              "    }\n",
              "  </style>\n",
              "\n",
              "      <script>\n",
              "        const buttonEl =\n",
              "          document.querySelector('#df-622cdaff-e572-429e-9f1e-23cf098b0537 button.colab-df-convert');\n",
              "        buttonEl.style.display =\n",
              "          google.colab.kernel.accessAllowed ? 'block' : 'none';\n",
              "\n",
              "        async function convertToInteractive(key) {\n",
              "          const element = document.querySelector('#df-622cdaff-e572-429e-9f1e-23cf098b0537');\n",
              "          const dataTable =\n",
              "            await google.colab.kernel.invokeFunction('convertToInteractive',\n",
              "                                                     [key], {});\n",
              "          if (!dataTable) return;\n",
              "\n",
              "          const docLinkHtml = 'Like what you see? Visit the ' +\n",
              "            '<a target=\"_blank\" href=https://colab.research.google.com/notebooks/data_table.ipynb>data table notebook</a>'\n",
              "            + ' to learn more about interactive tables.';\n",
              "          element.innerHTML = '';\n",
              "          dataTable['output_type'] = 'display_data';\n",
              "          await google.colab.output.renderOutput(dataTable, element);\n",
              "          const docLink = document.createElement('div');\n",
              "          docLink.innerHTML = docLinkHtml;\n",
              "          element.appendChild(docLink);\n",
              "        }\n",
              "      </script>\n",
              "    </div>\n",
              "  </div>\n",
              "  "
            ]
          },
          "metadata": {},
          "execution_count": 15
        }
      ]
    },
    {
      "cell_type": "code",
      "source": [
        "#ammending data type\n",
        "Transactions['STORE_NBR']=Transactions['STORE_NBR'].astype(str)\n",
        "Transactions['LYLTY_CARD_NBR']=Transactions['LYLTY_CARD_NBR'].astype(str)\n",
        "Transactions['TXN_ID']=Transactions['TXN_ID'].astype(str)\n",
        "Transactions['PROD_NBR']=Transactions['PROD_NBR'].astype(str)\n",
        "Transactions['PROD_NAME']=Transactions['PROD_NAME'].astype(str)"
      ],
      "metadata": {
        "id": "x5iw6MCqBH7o"
      },
      "execution_count": 16,
      "outputs": []
    },
    {
      "cell_type": "code",
      "source": [
        "Transactions.drop(index=124845,inplace=True)"
      ],
      "metadata": {
        "id": "S2IuoPmqBJ0w"
      },
      "execution_count": 17,
      "outputs": []
    },
    {
      "cell_type": "code",
      "source": [
        "#checking for results\n",
        "Transactions[Transactions.duplicated()]"
      ],
      "metadata": {
        "colab": {
          "base_uri": "https://localhost:8080/",
          "height": 49
        },
        "id": "JCbXM6AMBNL1",
        "outputId": "78984e2d-710b-4018-92a0-c29af04ebdfa"
      },
      "execution_count": 18,
      "outputs": [
        {
          "output_type": "execute_result",
          "data": {
            "text/plain": [
              "Empty DataFrame\n",
              "Columns: [DATE, STORE_NBR, LYLTY_CARD_NBR, TXN_ID, PROD_NBR, PROD_NAME, PROD_QTY, TOT_SALES]\n",
              "Index: []"
            ],
            "text/html": [
              "\n",
              "  <div id=\"df-262f511e-a5c8-4902-876c-628dd05d84cc\">\n",
              "    <div class=\"colab-df-container\">\n",
              "      <div>\n",
              "<style scoped>\n",
              "    .dataframe tbody tr th:only-of-type {\n",
              "        vertical-align: middle;\n",
              "    }\n",
              "\n",
              "    .dataframe tbody tr th {\n",
              "        vertical-align: top;\n",
              "    }\n",
              "\n",
              "    .dataframe thead th {\n",
              "        text-align: right;\n",
              "    }\n",
              "</style>\n",
              "<table border=\"1\" class=\"dataframe\">\n",
              "  <thead>\n",
              "    <tr style=\"text-align: right;\">\n",
              "      <th></th>\n",
              "      <th>DATE</th>\n",
              "      <th>STORE_NBR</th>\n",
              "      <th>LYLTY_CARD_NBR</th>\n",
              "      <th>TXN_ID</th>\n",
              "      <th>PROD_NBR</th>\n",
              "      <th>PROD_NAME</th>\n",
              "      <th>PROD_QTY</th>\n",
              "      <th>TOT_SALES</th>\n",
              "    </tr>\n",
              "  </thead>\n",
              "  <tbody>\n",
              "  </tbody>\n",
              "</table>\n",
              "</div>\n",
              "      <button class=\"colab-df-convert\" onclick=\"convertToInteractive('df-262f511e-a5c8-4902-876c-628dd05d84cc')\"\n",
              "              title=\"Convert this dataframe to an interactive table.\"\n",
              "              style=\"display:none;\">\n",
              "        \n",
              "  <svg xmlns=\"http://www.w3.org/2000/svg\" height=\"24px\"viewBox=\"0 0 24 24\"\n",
              "       width=\"24px\">\n",
              "    <path d=\"M0 0h24v24H0V0z\" fill=\"none\"/>\n",
              "    <path d=\"M18.56 5.44l.94 2.06.94-2.06 2.06-.94-2.06-.94-.94-2.06-.94 2.06-2.06.94zm-11 1L8.5 8.5l.94-2.06 2.06-.94-2.06-.94L8.5 2.5l-.94 2.06-2.06.94zm10 10l.94 2.06.94-2.06 2.06-.94-2.06-.94-.94-2.06-.94 2.06-2.06.94z\"/><path d=\"M17.41 7.96l-1.37-1.37c-.4-.4-.92-.59-1.43-.59-.52 0-1.04.2-1.43.59L10.3 9.45l-7.72 7.72c-.78.78-.78 2.05 0 2.83L4 21.41c.39.39.9.59 1.41.59.51 0 1.02-.2 1.41-.59l7.78-7.78 2.81-2.81c.8-.78.8-2.07 0-2.86zM5.41 20L4 18.59l7.72-7.72 1.47 1.35L5.41 20z\"/>\n",
              "  </svg>\n",
              "      </button>\n",
              "      \n",
              "  <style>\n",
              "    .colab-df-container {\n",
              "      display:flex;\n",
              "      flex-wrap:wrap;\n",
              "      gap: 12px;\n",
              "    }\n",
              "\n",
              "    .colab-df-convert {\n",
              "      background-color: #E8F0FE;\n",
              "      border: none;\n",
              "      border-radius: 50%;\n",
              "      cursor: pointer;\n",
              "      display: none;\n",
              "      fill: #1967D2;\n",
              "      height: 32px;\n",
              "      padding: 0 0 0 0;\n",
              "      width: 32px;\n",
              "    }\n",
              "\n",
              "    .colab-df-convert:hover {\n",
              "      background-color: #E2EBFA;\n",
              "      box-shadow: 0px 1px 2px rgba(60, 64, 67, 0.3), 0px 1px 3px 1px rgba(60, 64, 67, 0.15);\n",
              "      fill: #174EA6;\n",
              "    }\n",
              "\n",
              "    [theme=dark] .colab-df-convert {\n",
              "      background-color: #3B4455;\n",
              "      fill: #D2E3FC;\n",
              "    }\n",
              "\n",
              "    [theme=dark] .colab-df-convert:hover {\n",
              "      background-color: #434B5C;\n",
              "      box-shadow: 0px 1px 3px 1px rgba(0, 0, 0, 0.15);\n",
              "      filter: drop-shadow(0px 1px 2px rgba(0, 0, 0, 0.3));\n",
              "      fill: #FFFFFF;\n",
              "    }\n",
              "  </style>\n",
              "\n",
              "      <script>\n",
              "        const buttonEl =\n",
              "          document.querySelector('#df-262f511e-a5c8-4902-876c-628dd05d84cc button.colab-df-convert');\n",
              "        buttonEl.style.display =\n",
              "          google.colab.kernel.accessAllowed ? 'block' : 'none';\n",
              "\n",
              "        async function convertToInteractive(key) {\n",
              "          const element = document.querySelector('#df-262f511e-a5c8-4902-876c-628dd05d84cc');\n",
              "          const dataTable =\n",
              "            await google.colab.kernel.invokeFunction('convertToInteractive',\n",
              "                                                     [key], {});\n",
              "          if (!dataTable) return;\n",
              "\n",
              "          const docLinkHtml = 'Like what you see? Visit the ' +\n",
              "            '<a target=\"_blank\" href=https://colab.research.google.com/notebooks/data_table.ipynb>data table notebook</a>'\n",
              "            + ' to learn more about interactive tables.';\n",
              "          element.innerHTML = '';\n",
              "          dataTable['output_type'] = 'display_data';\n",
              "          await google.colab.output.renderOutput(dataTable, element);\n",
              "          const docLink = document.createElement('div');\n",
              "          docLink.innerHTML = docLinkHtml;\n",
              "          element.appendChild(docLink);\n",
              "        }\n",
              "      </script>\n",
              "    </div>\n",
              "  </div>\n",
              "  "
            ]
          },
          "metadata": {},
          "execution_count": 18
        }
      ]
    },
    {
      "cell_type": "code",
      "source": [
        "# Collecting the categorical columns into  list\n",
        "cat_col=[]\n",
        "for x in Transactions.dtypes.index:\n",
        "    if Transactions.dtypes[x]=='object':\n",
        "        cat_col.append(x)\n",
        "cat_col"
      ],
      "metadata": {
        "colab": {
          "base_uri": "https://localhost:8080/"
        },
        "id": "c8BffEf7BT_4",
        "outputId": "e11b2da9-993e-4699-aa8b-07626a138599"
      },
      "execution_count": 19,
      "outputs": [
        {
          "output_type": "execute_result",
          "data": {
            "text/plain": [
              "['STORE_NBR', 'LYLTY_CARD_NBR', 'TXN_ID', 'PROD_NBR', 'PROD_NAME']"
            ]
          },
          "metadata": {},
          "execution_count": 19
        }
      ]
    },
    {
      "cell_type": "code",
      "source": [
        "#checking for consistency of values in categorical columns mentioned in the previous list\n",
        "for col in cat_col:\n",
        "    print(col)\n",
        "    print(Transactions[col].unique())\n",
        "    print()\n",
        "    print('*******')\n",
        "    print()"
      ],
      "metadata": {
        "colab": {
          "base_uri": "https://localhost:8080/"
        },
        "id": "IdJgexKlBVnt",
        "outputId": "e5f1e71e-8fe2-457a-8bf8-c6501a52c6ff"
      },
      "execution_count": 20,
      "outputs": [
        {
          "output_type": "stream",
          "name": "stdout",
          "text": [
            "STORE_NBR\n",
            "['1' '2' '4' '5' '7' '8' '9' '13' '19' '20' '22' '23' '25' '33' '36' '38'\n",
            " '39' '41' '43' '45' '51' '54' '55' '56' '58' '59' '60' '62' '63' '67'\n",
            " '71' '72' '74' '75' '80' '81' '82' '83' '84' '88' '94' '96' '97' '101'\n",
            " '102' '104' '106' '109' '110' '111' '112' '114' '115' '116' '118' '119'\n",
            " '120' '122' '125' '128' '129' '130' '133' '149' '151' '152' '153' '156'\n",
            " '157' '160' '161' '164' '166' '167' '168' '169' '172' '173' '175' '178'\n",
            " '181' '184' '186' '187' '191' '194' '196' '197' '200' '205' '207' '208'\n",
            " '209' '212' '214' '215' '216' '217' '219' '222' '223' '225' '226' '227'\n",
            " '235' '236' '237' '241' '243' '246' '247' '248' '250' '253' '255' '256'\n",
            " '257' '262' '265' '266' '269' '271' '77' '3' '6' '10' '12' '15' '16' '17'\n",
            " '18' '21' '24' '26' '27' '28' '29' '30' '32' '34' '35' '37' '40' '46'\n",
            " '47' '48' '49' '50' '52' '53' '57' '61' '64' '65' '66' '68' '69' '70'\n",
            " '73' '78' '79' '86' '87' '89' '90' '91' '93' '95' '98' '100' '103' '105'\n",
            " '107' '108' '113' '117' '121' '123' '124' '126' '127' '131' '132' '134'\n",
            " '135' '136' '137' '138' '140' '141' '142' '143' '144' '145' '147' '148'\n",
            " '150' '154' '155' '158' '162' '163' '165' '170' '171' '174' '176' '177'\n",
            " '179' '180' '182' '183' '185' '188' '189' '190' '192' '195' '199' '201'\n",
            " '202' '203' '210' '213' '218' '220' '221' '224' '228' '229' '230' '231'\n",
            " '232' '233' '234' '238' '239' '240' '242' '244' '245' '249' '251' '254'\n",
            " '259' '260' '261' '263' '264' '267' '268' '270' '272' '14' '42' '44' '92'\n",
            " '99' '139' '146' '159' '198' '204' '258' '211' '31' '85' '76' '11' '252'\n",
            " '193' '206']\n",
            "\n",
            "*******\n",
            "\n",
            "LYLTY_CARD_NBR\n",
            "['1000' '1307' '1343' ... '272358' '272379' '272380']\n",
            "\n",
            "*******\n",
            "\n",
            "TXN_ID\n",
            "['1' '348' '383' ... '270187' '270188' '270189']\n",
            "\n",
            "*******\n",
            "\n",
            "PROD_NBR\n",
            "['5' '66' '61' '69' '108' '57' '16' '24' '42' '52' '114' '15' '92' '44'\n",
            " '54' '94' '98' '93' '56' '7' '31' '32' '111' '46' '13' '99' '26' '64'\n",
            " '22' '48' '37' '36' '51' '107' '106' '4' '113' '45' '39' '102' '104' '3'\n",
            " '82' '88' '40' '73' '87' '84' '70' '89' '101' '63' '25' '47' '71' '65'\n",
            " '33' '35' '12' '8' '75' '100' '29' '59' '30' '81' '67' '110' '28' '2'\n",
            " '14' '77' '17' '83' '68' '96' '79' '23' '50' '78' '1' '86' '53' '72' '74'\n",
            " '76' '9' '91' '105' '90' '109' '27' '62' '112' '55' '18' '34' '49' '60'\n",
            " '38' '103' '85' '95' '97' '20' '19' '21' '6' '80' '58' '10' '11' '43'\n",
            " '41']\n",
            "\n",
            "*******\n",
            "\n",
            "PROD_NAME\n",
            "['Natural Chip        Compny SeaSalt175g' 'CCs Nacho Cheese    175g'\n",
            " 'Smiths Crinkle Cut  Chips Chicken 170g'\n",
            " 'Smiths Chip Thinly  S/Cream&Onion 175g'\n",
            " 'Kettle Tortilla ChpsHny&Jlpno Chili 150g'\n",
            " 'Old El Paso Salsa   Dip Tomato Mild 300g'\n",
            " 'Smiths Crinkle Chips Salt & Vinegar 330g'\n",
            " 'Grain Waves         Sweet Chilli 210g'\n",
            " 'Doritos Corn Chip Mexican Jalapeno 150g'\n",
            " 'Grain Waves Sour    Cream&Chives 210G'\n",
            " 'Kettle Sensations   Siracha Lime 150g' 'Twisties Cheese     270g'\n",
            " 'WW Crinkle Cut      Chicken 175g' 'Thins Chips Light&  Tangy 175g'\n",
            " 'CCs Original 175g' 'Burger Rings 220g'\n",
            " 'NCC Sour Cream &    Garden Chives 175g'\n",
            " 'Doritos Corn Chip Southern Chicken 150g' 'Cheezels Cheese Box 125g'\n",
            " 'Smiths Crinkle      Original 330g'\n",
            " 'Infzns Crn Crnchers Tangy Gcamole 110g'\n",
            " 'Kettle Sea Salt     And Vinegar 175g'\n",
            " 'Smiths Chip Thinly  Cut Original 175g' 'Kettle Original 175g'\n",
            " 'Red Rock Deli Thai  Chilli&Lime 150g' 'Pringles Sthrn FriedChicken 134g'\n",
            " 'Pringles Sweet&Spcy BBQ 134g' 'Red Rock Deli SR    Salsa & Mzzrlla 150g'\n",
            " 'Thins Chips         Originl saltd 175g'\n",
            " 'Red Rock Deli Sp    Salt & Truffle 150G'\n",
            " 'Smiths Thinly       Swt Chli&S/Cream175G' 'Kettle Chilli 175g'\n",
            " 'Doritos Mexicana    170g' 'Smiths Crinkle Cut  French OnionDip 150g'\n",
            " 'Natural ChipCo      Hony Soy Chckn175g'\n",
            " 'Dorito Corn Chp     Supreme 380g' 'Twisties Chicken270g'\n",
            " 'Smiths Thinly Cut   Roast Chicken 175g'\n",
            " 'Smiths Crinkle Cut  Tomato Salsa 150g'\n",
            " 'Kettle Mozzarella   Basil & Pesto 175g'\n",
            " 'Infuzions Thai SweetChili PotatoMix 110g'\n",
            " 'Kettle Sensations   Camembert & Fig 150g'\n",
            " 'Smith Crinkle Cut   Mac N Cheese 150g'\n",
            " 'Kettle Honey Soy    Chicken 175g' 'Thins Chips Seasonedchicken 175g'\n",
            " 'Smiths Crinkle Cut  Salt & Vinegar 170g'\n",
            " 'Infuzions BBQ Rib   Prawn Crackers 110g'\n",
            " 'GrnWves Plus Btroot & Chilli Jam 180g'\n",
            " 'Tyrrells Crisps     Lightly Salted 165g'\n",
            " 'Kettle Sweet Chilli And Sour Cream 175g'\n",
            " 'Doritos Salsa       Medium 300g' 'Kettle 135g Swt Pot Sea Salt'\n",
            " 'Pringles SourCream  Onion 134g' 'Doritos Corn Chips  Original 170g'\n",
            " 'Twisties Cheese     Burger 250g'\n",
            " 'Old El Paso Salsa   Dip Chnky Tom Ht300g'\n",
            " 'Cobs Popd Swt/Chlli &Sr/Cream Chips 110g'\n",
            " 'Woolworths Mild     Salsa 300g'\n",
            " 'Natural Chip Co     Tmato Hrb&Spce 175g'\n",
            " 'Smiths Crinkle Cut  Chips Original 170g'\n",
            " 'Cobs Popd Sea Salt  Chips 110g'\n",
            " 'Smiths Crinkle Cut  Chips Chs&Onion170g'\n",
            " 'French Fries Potato Chips 175g'\n",
            " 'Old El Paso Salsa   Dip Tomato Med 300g'\n",
            " 'Doritos Corn Chips  Cheese Supreme 170g'\n",
            " 'Pringles Original   Crisps 134g' 'RRD Chilli&         Coconut 150g'\n",
            " 'WW Original Corn    Chips 200g' 'Thins Potato Chips  Hot & Spicy 175g'\n",
            " 'Cobs Popd Sour Crm  &Chives Chips 110g'\n",
            " 'Smiths Crnkle Chip  Orgnl Big Bag 380g'\n",
            " 'Doritos Corn Chips  Nacho Cheese 170g'\n",
            " 'Kettle Sensations   BBQ&Maple 150g' 'WW D/Style Chip     Sea Salt 200g'\n",
            " 'Pringles Chicken    Salt Crips 134g' 'WW Original Stacked Chips 160g'\n",
            " 'Smiths Chip Thinly  CutSalt/Vinegr175g' 'Cheezels Cheese 330g'\n",
            " 'Tostitos Lightly    Salted 175g' 'Thins Chips Salt &  Vinegar 175g'\n",
            " 'Smiths Crinkle Cut  Chips Barbecue 170g' 'Cheetos Puffs 165g'\n",
            " 'RRD Sweet Chilli &  Sour Cream 165g' 'WW Crinkle Cut      Original 175g'\n",
            " 'Tostitos Splash Of  Lime 175g' 'Woolworths Medium   Salsa 300g'\n",
            " 'Kettle Tortilla ChpsBtroot&Ricotta 150g' 'CCs Tasty Cheese    175g'\n",
            " 'Woolworths Cheese   Rings 190g' 'Tostitos Smoked     Chipotle 175g'\n",
            " 'Pringles Barbeque   134g' 'WW Supreme Cheese   Corn Chips 200g'\n",
            " 'Pringles Mystery    Flavour 134g'\n",
            " 'Tyrrells Crisps     Ched & Chives 165g'\n",
            " 'Snbts Whlgrn Crisps Cheddr&Mstrd 90g' 'Cheetos Chs & Bacon Balls 190g'\n",
            " 'Pringles Slt Vingar 134g' 'Infuzions SourCream&Herbs Veg Strws 110g'\n",
            " 'Kettle Tortilla ChpsFeta&Garlic 150g'\n",
            " 'Infuzions Mango     Chutny Papadums 70g'\n",
            " 'RRD Steak &         Chimuchurri 150g' 'RRD Honey Soy       Chicken 165g'\n",
            " 'Sunbites Whlegrn    Crisps Frch/Onin 90g' 'RRD Salt & Vinegar  165g'\n",
            " 'Doritos Cheese      Supreme 330g' 'Smiths Crinkle Cut  Snag&Sauce 150g'\n",
            " 'WW Sour Cream &OnionStacked Chips 160g' 'RRD Lime & Pepper   165g'\n",
            " 'Natural ChipCo Sea  Salt & Vinegr 175g'\n",
            " 'Red Rock Deli Chikn&Garlic Aioli 150g'\n",
            " 'RRD SR Slow Rst     Pork Belly 150g' 'RRD Pc Sea Salt     165g'\n",
            " 'Smith Crinkle Cut   Bolognese 150g' 'Doritos Salsa Mild  300g']\n",
            "\n",
            "*******\n",
            "\n"
          ]
        }
      ]
    },
    {
      "cell_type": "code",
      "source": [
        "#checking for final results\n",
        "Transactions.info()"
      ],
      "metadata": {
        "colab": {
          "base_uri": "https://localhost:8080/"
        },
        "id": "wAQfiOfZBbIg",
        "outputId": "f418b4c5-2657-4594-811e-3f01017278ad"
      },
      "execution_count": 21,
      "outputs": [
        {
          "output_type": "stream",
          "name": "stdout",
          "text": [
            "<class 'pandas.core.frame.DataFrame'>\n",
            "Int64Index: 264835 entries, 0 to 264835\n",
            "Data columns (total 8 columns):\n",
            " #   Column          Non-Null Count   Dtype         \n",
            "---  ------          --------------   -----         \n",
            " 0   DATE            264835 non-null  datetime64[ns]\n",
            " 1   STORE_NBR       264835 non-null  object        \n",
            " 2   LYLTY_CARD_NBR  264835 non-null  object        \n",
            " 3   TXN_ID          264835 non-null  object        \n",
            " 4   PROD_NBR        264835 non-null  object        \n",
            " 5   PROD_NAME       264835 non-null  object        \n",
            " 6   PROD_QTY        264835 non-null  int64         \n",
            " 7   TOT_SALES       264835 non-null  float64       \n",
            "dtypes: datetime64[ns](1), float64(1), int64(1), object(5)\n",
            "memory usage: 18.2+ MB\n"
          ]
        }
      ]
    },
    {
      "cell_type": "code",
      "source": [
        "Transactions.head(2)"
      ],
      "metadata": {
        "colab": {
          "base_uri": "https://localhost:8080/",
          "height": 112
        },
        "id": "6wm6Q7Y_Bg9J",
        "outputId": "d144ae50-291f-451c-aff0-02f62f709dbd"
      },
      "execution_count": 22,
      "outputs": [
        {
          "output_type": "execute_result",
          "data": {
            "text/plain": [
              "        DATE STORE_NBR LYLTY_CARD_NBR TXN_ID PROD_NBR                               PROD_NAME  PROD_QTY  TOT_SALES\n",
              "0 2018-10-17         1           1000      1        5  Natural Chip        Compny SeaSalt175g         2        6.0\n",
              "1 2019-05-14         1           1307    348       66                CCs Nacho Cheese    175g         3        6.3"
            ],
            "text/html": [
              "\n",
              "  <div id=\"df-e6c64baf-41f6-4b97-a0d3-d7ab8af763f9\">\n",
              "    <div class=\"colab-df-container\">\n",
              "      <div>\n",
              "<style scoped>\n",
              "    .dataframe tbody tr th:only-of-type {\n",
              "        vertical-align: middle;\n",
              "    }\n",
              "\n",
              "    .dataframe tbody tr th {\n",
              "        vertical-align: top;\n",
              "    }\n",
              "\n",
              "    .dataframe thead th {\n",
              "        text-align: right;\n",
              "    }\n",
              "</style>\n",
              "<table border=\"1\" class=\"dataframe\">\n",
              "  <thead>\n",
              "    <tr style=\"text-align: right;\">\n",
              "      <th></th>\n",
              "      <th>DATE</th>\n",
              "      <th>STORE_NBR</th>\n",
              "      <th>LYLTY_CARD_NBR</th>\n",
              "      <th>TXN_ID</th>\n",
              "      <th>PROD_NBR</th>\n",
              "      <th>PROD_NAME</th>\n",
              "      <th>PROD_QTY</th>\n",
              "      <th>TOT_SALES</th>\n",
              "    </tr>\n",
              "  </thead>\n",
              "  <tbody>\n",
              "    <tr>\n",
              "      <th>0</th>\n",
              "      <td>2018-10-17</td>\n",
              "      <td>1</td>\n",
              "      <td>1000</td>\n",
              "      <td>1</td>\n",
              "      <td>5</td>\n",
              "      <td>Natural Chip        Compny SeaSalt175g</td>\n",
              "      <td>2</td>\n",
              "      <td>6.0</td>\n",
              "    </tr>\n",
              "    <tr>\n",
              "      <th>1</th>\n",
              "      <td>2019-05-14</td>\n",
              "      <td>1</td>\n",
              "      <td>1307</td>\n",
              "      <td>348</td>\n",
              "      <td>66</td>\n",
              "      <td>CCs Nacho Cheese    175g</td>\n",
              "      <td>3</td>\n",
              "      <td>6.3</td>\n",
              "    </tr>\n",
              "  </tbody>\n",
              "</table>\n",
              "</div>\n",
              "      <button class=\"colab-df-convert\" onclick=\"convertToInteractive('df-e6c64baf-41f6-4b97-a0d3-d7ab8af763f9')\"\n",
              "              title=\"Convert this dataframe to an interactive table.\"\n",
              "              style=\"display:none;\">\n",
              "        \n",
              "  <svg xmlns=\"http://www.w3.org/2000/svg\" height=\"24px\"viewBox=\"0 0 24 24\"\n",
              "       width=\"24px\">\n",
              "    <path d=\"M0 0h24v24H0V0z\" fill=\"none\"/>\n",
              "    <path d=\"M18.56 5.44l.94 2.06.94-2.06 2.06-.94-2.06-.94-.94-2.06-.94 2.06-2.06.94zm-11 1L8.5 8.5l.94-2.06 2.06-.94-2.06-.94L8.5 2.5l-.94 2.06-2.06.94zm10 10l.94 2.06.94-2.06 2.06-.94-2.06-.94-.94-2.06-.94 2.06-2.06.94z\"/><path d=\"M17.41 7.96l-1.37-1.37c-.4-.4-.92-.59-1.43-.59-.52 0-1.04.2-1.43.59L10.3 9.45l-7.72 7.72c-.78.78-.78 2.05 0 2.83L4 21.41c.39.39.9.59 1.41.59.51 0 1.02-.2 1.41-.59l7.78-7.78 2.81-2.81c.8-.78.8-2.07 0-2.86zM5.41 20L4 18.59l7.72-7.72 1.47 1.35L5.41 20z\"/>\n",
              "  </svg>\n",
              "      </button>\n",
              "      \n",
              "  <style>\n",
              "    .colab-df-container {\n",
              "      display:flex;\n",
              "      flex-wrap:wrap;\n",
              "      gap: 12px;\n",
              "    }\n",
              "\n",
              "    .colab-df-convert {\n",
              "      background-color: #E8F0FE;\n",
              "      border: none;\n",
              "      border-radius: 50%;\n",
              "      cursor: pointer;\n",
              "      display: none;\n",
              "      fill: #1967D2;\n",
              "      height: 32px;\n",
              "      padding: 0 0 0 0;\n",
              "      width: 32px;\n",
              "    }\n",
              "\n",
              "    .colab-df-convert:hover {\n",
              "      background-color: #E2EBFA;\n",
              "      box-shadow: 0px 1px 2px rgba(60, 64, 67, 0.3), 0px 1px 3px 1px rgba(60, 64, 67, 0.15);\n",
              "      fill: #174EA6;\n",
              "    }\n",
              "\n",
              "    [theme=dark] .colab-df-convert {\n",
              "      background-color: #3B4455;\n",
              "      fill: #D2E3FC;\n",
              "    }\n",
              "\n",
              "    [theme=dark] .colab-df-convert:hover {\n",
              "      background-color: #434B5C;\n",
              "      box-shadow: 0px 1px 3px 1px rgba(0, 0, 0, 0.15);\n",
              "      filter: drop-shadow(0px 1px 2px rgba(0, 0, 0, 0.3));\n",
              "      fill: #FFFFFF;\n",
              "    }\n",
              "  </style>\n",
              "\n",
              "      <script>\n",
              "        const buttonEl =\n",
              "          document.querySelector('#df-e6c64baf-41f6-4b97-a0d3-d7ab8af763f9 button.colab-df-convert');\n",
              "        buttonEl.style.display =\n",
              "          google.colab.kernel.accessAllowed ? 'block' : 'none';\n",
              "\n",
              "        async function convertToInteractive(key) {\n",
              "          const element = document.querySelector('#df-e6c64baf-41f6-4b97-a0d3-d7ab8af763f9');\n",
              "          const dataTable =\n",
              "            await google.colab.kernel.invokeFunction('convertToInteractive',\n",
              "                                                     [key], {});\n",
              "          if (!dataTable) return;\n",
              "\n",
              "          const docLinkHtml = 'Like what you see? Visit the ' +\n",
              "            '<a target=\"_blank\" href=https://colab.research.google.com/notebooks/data_table.ipynb>data table notebook</a>'\n",
              "            + ' to learn more about interactive tables.';\n",
              "          element.innerHTML = '';\n",
              "          dataTable['output_type'] = 'display_data';\n",
              "          await google.colab.output.renderOutput(dataTable, element);\n",
              "          const docLink = document.createElement('div');\n",
              "          docLink.innerHTML = docLinkHtml;\n",
              "          element.appendChild(docLink);\n",
              "        }\n",
              "      </script>\n",
              "    </div>\n",
              "  </div>\n",
              "  "
            ]
          },
          "metadata": {},
          "execution_count": 22
        }
      ]
    },
    {
      "cell_type": "code",
      "source": [
        "#creating a function to split packet size from product name\n",
        "def packet_size(Transactions):\n",
        "    string = Transactions[\"PROD_NAME\"]\n",
        "    num = []\n",
        "    for i in string:\n",
        "        if i.isdigit():\n",
        "            num.append(i)\n",
        "    number = \"\".join(num)\n",
        "    return int(number)"
      ],
      "metadata": {
        "id": "MQ_K7rxdBk54"
      },
      "execution_count": 23,
      "outputs": []
    },
    {
      "cell_type": "code",
      "source": [
        "#applying the function on product name column\n",
        "Transactions[\"PACKET_SIZE\"] = Transactions.apply(packet_size,axis=1)\n",
        "Transactions.head()"
      ],
      "metadata": {
        "colab": {
          "base_uri": "https://localhost:8080/",
          "height": 337
        },
        "id": "yood1xZuBpFj",
        "outputId": "f63c029a-a91c-4b71-daba-e6a5631a9476"
      },
      "execution_count": 24,
      "outputs": [
        {
          "output_type": "execute_result",
          "data": {
            "text/plain": [
              "        DATE STORE_NBR LYLTY_CARD_NBR TXN_ID PROD_NBR                                 PROD_NAME  PROD_QTY  TOT_SALES  PACKET_SIZE\n",
              "0 2018-10-17         1           1000      1        5    Natural Chip        Compny SeaSalt175g         2        6.0          175\n",
              "1 2019-05-14         1           1307    348       66                  CCs Nacho Cheese    175g         3        6.3          175\n",
              "2 2019-05-20         1           1343    383       61    Smiths Crinkle Cut  Chips Chicken 170g         2        2.9          170\n",
              "3 2018-08-17         2           2373    974       69    Smiths Chip Thinly  S/Cream&Onion 175g         5       15.0          175\n",
              "4 2018-08-18         2           2426   1038      108  Kettle Tortilla ChpsHny&Jlpno Chili 150g         3       13.8          150"
            ],
            "text/html": [
              "\n",
              "  <div id=\"df-0a3bf484-8982-48f9-a815-abfdf5d76cf4\">\n",
              "    <div class=\"colab-df-container\">\n",
              "      <div>\n",
              "<style scoped>\n",
              "    .dataframe tbody tr th:only-of-type {\n",
              "        vertical-align: middle;\n",
              "    }\n",
              "\n",
              "    .dataframe tbody tr th {\n",
              "        vertical-align: top;\n",
              "    }\n",
              "\n",
              "    .dataframe thead th {\n",
              "        text-align: right;\n",
              "    }\n",
              "</style>\n",
              "<table border=\"1\" class=\"dataframe\">\n",
              "  <thead>\n",
              "    <tr style=\"text-align: right;\">\n",
              "      <th></th>\n",
              "      <th>DATE</th>\n",
              "      <th>STORE_NBR</th>\n",
              "      <th>LYLTY_CARD_NBR</th>\n",
              "      <th>TXN_ID</th>\n",
              "      <th>PROD_NBR</th>\n",
              "      <th>PROD_NAME</th>\n",
              "      <th>PROD_QTY</th>\n",
              "      <th>TOT_SALES</th>\n",
              "      <th>PACKET_SIZE</th>\n",
              "    </tr>\n",
              "  </thead>\n",
              "  <tbody>\n",
              "    <tr>\n",
              "      <th>0</th>\n",
              "      <td>2018-10-17</td>\n",
              "      <td>1</td>\n",
              "      <td>1000</td>\n",
              "      <td>1</td>\n",
              "      <td>5</td>\n",
              "      <td>Natural Chip        Compny SeaSalt175g</td>\n",
              "      <td>2</td>\n",
              "      <td>6.0</td>\n",
              "      <td>175</td>\n",
              "    </tr>\n",
              "    <tr>\n",
              "      <th>1</th>\n",
              "      <td>2019-05-14</td>\n",
              "      <td>1</td>\n",
              "      <td>1307</td>\n",
              "      <td>348</td>\n",
              "      <td>66</td>\n",
              "      <td>CCs Nacho Cheese    175g</td>\n",
              "      <td>3</td>\n",
              "      <td>6.3</td>\n",
              "      <td>175</td>\n",
              "    </tr>\n",
              "    <tr>\n",
              "      <th>2</th>\n",
              "      <td>2019-05-20</td>\n",
              "      <td>1</td>\n",
              "      <td>1343</td>\n",
              "      <td>383</td>\n",
              "      <td>61</td>\n",
              "      <td>Smiths Crinkle Cut  Chips Chicken 170g</td>\n",
              "      <td>2</td>\n",
              "      <td>2.9</td>\n",
              "      <td>170</td>\n",
              "    </tr>\n",
              "    <tr>\n",
              "      <th>3</th>\n",
              "      <td>2018-08-17</td>\n",
              "      <td>2</td>\n",
              "      <td>2373</td>\n",
              "      <td>974</td>\n",
              "      <td>69</td>\n",
              "      <td>Smiths Chip Thinly  S/Cream&amp;Onion 175g</td>\n",
              "      <td>5</td>\n",
              "      <td>15.0</td>\n",
              "      <td>175</td>\n",
              "    </tr>\n",
              "    <tr>\n",
              "      <th>4</th>\n",
              "      <td>2018-08-18</td>\n",
              "      <td>2</td>\n",
              "      <td>2426</td>\n",
              "      <td>1038</td>\n",
              "      <td>108</td>\n",
              "      <td>Kettle Tortilla ChpsHny&amp;Jlpno Chili 150g</td>\n",
              "      <td>3</td>\n",
              "      <td>13.8</td>\n",
              "      <td>150</td>\n",
              "    </tr>\n",
              "  </tbody>\n",
              "</table>\n",
              "</div>\n",
              "      <button class=\"colab-df-convert\" onclick=\"convertToInteractive('df-0a3bf484-8982-48f9-a815-abfdf5d76cf4')\"\n",
              "              title=\"Convert this dataframe to an interactive table.\"\n",
              "              style=\"display:none;\">\n",
              "        \n",
              "  <svg xmlns=\"http://www.w3.org/2000/svg\" height=\"24px\"viewBox=\"0 0 24 24\"\n",
              "       width=\"24px\">\n",
              "    <path d=\"M0 0h24v24H0V0z\" fill=\"none\"/>\n",
              "    <path d=\"M18.56 5.44l.94 2.06.94-2.06 2.06-.94-2.06-.94-.94-2.06-.94 2.06-2.06.94zm-11 1L8.5 8.5l.94-2.06 2.06-.94-2.06-.94L8.5 2.5l-.94 2.06-2.06.94zm10 10l.94 2.06.94-2.06 2.06-.94-2.06-.94-.94-2.06-.94 2.06-2.06.94z\"/><path d=\"M17.41 7.96l-1.37-1.37c-.4-.4-.92-.59-1.43-.59-.52 0-1.04.2-1.43.59L10.3 9.45l-7.72 7.72c-.78.78-.78 2.05 0 2.83L4 21.41c.39.39.9.59 1.41.59.51 0 1.02-.2 1.41-.59l7.78-7.78 2.81-2.81c.8-.78.8-2.07 0-2.86zM5.41 20L4 18.59l7.72-7.72 1.47 1.35L5.41 20z\"/>\n",
              "  </svg>\n",
              "      </button>\n",
              "      \n",
              "  <style>\n",
              "    .colab-df-container {\n",
              "      display:flex;\n",
              "      flex-wrap:wrap;\n",
              "      gap: 12px;\n",
              "    }\n",
              "\n",
              "    .colab-df-convert {\n",
              "      background-color: #E8F0FE;\n",
              "      border: none;\n",
              "      border-radius: 50%;\n",
              "      cursor: pointer;\n",
              "      display: none;\n",
              "      fill: #1967D2;\n",
              "      height: 32px;\n",
              "      padding: 0 0 0 0;\n",
              "      width: 32px;\n",
              "    }\n",
              "\n",
              "    .colab-df-convert:hover {\n",
              "      background-color: #E2EBFA;\n",
              "      box-shadow: 0px 1px 2px rgba(60, 64, 67, 0.3), 0px 1px 3px 1px rgba(60, 64, 67, 0.15);\n",
              "      fill: #174EA6;\n",
              "    }\n",
              "\n",
              "    [theme=dark] .colab-df-convert {\n",
              "      background-color: #3B4455;\n",
              "      fill: #D2E3FC;\n",
              "    }\n",
              "\n",
              "    [theme=dark] .colab-df-convert:hover {\n",
              "      background-color: #434B5C;\n",
              "      box-shadow: 0px 1px 3px 1px rgba(0, 0, 0, 0.15);\n",
              "      filter: drop-shadow(0px 1px 2px rgba(0, 0, 0, 0.3));\n",
              "      fill: #FFFFFF;\n",
              "    }\n",
              "  </style>\n",
              "\n",
              "      <script>\n",
              "        const buttonEl =\n",
              "          document.querySelector('#df-0a3bf484-8982-48f9-a815-abfdf5d76cf4 button.colab-df-convert');\n",
              "        buttonEl.style.display =\n",
              "          google.colab.kernel.accessAllowed ? 'block' : 'none';\n",
              "\n",
              "        async function convertToInteractive(key) {\n",
              "          const element = document.querySelector('#df-0a3bf484-8982-48f9-a815-abfdf5d76cf4');\n",
              "          const dataTable =\n",
              "            await google.colab.kernel.invokeFunction('convertToInteractive',\n",
              "                                                     [key], {});\n",
              "          if (!dataTable) return;\n",
              "\n",
              "          const docLinkHtml = 'Like what you see? Visit the ' +\n",
              "            '<a target=\"_blank\" href=https://colab.research.google.com/notebooks/data_table.ipynb>data table notebook</a>'\n",
              "            + ' to learn more about interactive tables.';\n",
              "          element.innerHTML = '';\n",
              "          dataTable['output_type'] = 'display_data';\n",
              "          await google.colab.output.renderOutput(dataTable, element);\n",
              "          const docLink = document.createElement('div');\n",
              "          docLink.innerHTML = docLinkHtml;\n",
              "          element.appendChild(docLink);\n",
              "        }\n",
              "      </script>\n",
              "    </div>\n",
              "  </div>\n",
              "  "
            ]
          },
          "metadata": {},
          "execution_count": 24
        }
      ]
    },
    {
      "cell_type": "code",
      "source": [
        "Transactions['Transaction_year']=Transactions['DATE'].dt.year\n",
        "Transactions['Transaction_month']=Transactions['DATE'].dt.month_name()\n",
        "Transactions['Transaction_month_day']=Transactions['DATE'].dt.day\n",
        "Transactions['Transaction_week_day']=Transactions['DATE'].dt.day_name()"
      ],
      "metadata": {
        "id": "SzYKm__iBtPf"
      },
      "execution_count": 25,
      "outputs": []
    },
    {
      "cell_type": "code",
      "source": [
        "# Ammending datatypes\n",
        "Transactions['Transaction_year']=Transactions['Transaction_year'].astype(str)\n",
        "Transactions['Transaction_month_day']=Transactions['Transaction_month_day'].astype(str)"
      ],
      "metadata": {
        "id": "-Bqm0vUeByPM"
      },
      "execution_count": 26,
      "outputs": []
    },
    {
      "cell_type": "code",
      "source": [
        "# A function that will give us the boundries of the data which we should remove outliers after\n",
        "def outlier_treatment(datacolumn):\n",
        "    sorted(datacolumn)\n",
        "    Q1,Q3 = np.percentile(datacolumn , [25,75])\n",
        "    IQR = Q3 - Q1\n",
        "    lower_range = Q1 - (1.5 * IQR)\n",
        "    upper_range = Q3 + (1.5 * IQR)\n",
        "    return lower_range,upper_range"
      ],
      "metadata": {
        "id": "eDWnR8RRB2SL"
      },
      "execution_count": 27,
      "outputs": []
    },
    {
      "cell_type": "code",
      "source": [
        "#Checking for outliers in product quantity column\n",
        "plt.figure(figsize=(8,4),dpi=100);\n",
        "sns.boxplot(Transactions['PROD_QTY'],color=base_color);"
      ],
      "metadata": {
        "colab": {
          "base_uri": "https://localhost:8080/",
          "height": 382
        },
        "id": "jHJROTSMB5nj",
        "outputId": "277ada82-fdc3-4294-ccd8-540c443b8a47"
      },
      "execution_count": 28,
      "outputs": [
        {
          "output_type": "display_data",
          "data": {
            "text/plain": [
              "<Figure size 800x400 with 1 Axes>"
            ],
            "image/png": "[encoded data removed]"
          },
          "metadata": {
            "needs_background": "light"
          }
        }
      ]
    },
    {
      "cell_type": "code",
      "source": [
        "outlier_treatment(Transactions['PROD_QTY'])"
      ],
      "metadata": {
        "colab": {
          "base_uri": "https://localhost:8080/"
        },
        "id": "ujMhcoZKCFrp",
        "outputId": "0d64d161-eca5-43f8-8667-838814548f70"
      },
      "execution_count": 29,
      "outputs": [
        {
          "output_type": "execute_result",
          "data": {
            "text/plain": [
              "(2.0, 2.0)"
            ]
          },
          "metadata": {},
          "execution_count": 29
        }
      ]
    },
    {
      "cell_type": "code",
      "source": [
        "#Checking for outliers in total sales quantity column\n",
        "plt.figure(figsize=(8,4),dpi=100);\n",
        "sns.boxplot(Transactions['TOT_SALES'],color=base_color);"
      ],
      "metadata": {
        "colab": {
          "base_uri": "https://localhost:8080/",
          "height": 382
        },
        "id": "fRNKMDfaCIvz",
        "outputId": "42da9e20-ce3f-4f39-a7f3-74e314b6433f"
      },
      "execution_count": 30,
      "outputs": [
        {
          "output_type": "display_data",
          "data": {
            "text/plain": [
              "<Figure size 800x400 with 1 Axes>"
            ],
            "image/png": "[encoded data removed]"
          },
          "metadata": {
            "needs_background": "light"
          }
        }
      ]
    },
    {
      "cell_type": "code",
      "source": [
        "outlier_treatment(Transactions['TOT_SALES'])"
      ],
      "metadata": {
        "colab": {
          "base_uri": "https://localhost:8080/"
        },
        "id": "LbcMD_LzCNjS",
        "outputId": "90efc77b-f470-45df-dbcf-797112e64268"
      },
      "execution_count": 31,
      "outputs": [
        {
          "output_type": "execute_result",
          "data": {
            "text/plain": [
              "(-0.29999999999999805, 14.899999999999999)"
            ]
          },
          "metadata": {},
          "execution_count": 31
        }
      ]
    },
    {
      "cell_type": "code",
      "source": [
        "#Checking for outliers in product size column\n",
        "plt.figure(figsize=(8,4),dpi=100);\n",
        "sns.boxplot(Transactions['PACKET_SIZE'],color=base_color);"
      ],
      "metadata": {
        "colab": {
          "base_uri": "https://localhost:8080/",
          "height": 382
        },
        "id": "d22xBt9qCSQX",
        "outputId": "153cf9ce-2a03-4676-fa95-b4059a9ca982"
      },
      "execution_count": 32,
      "outputs": [
        {
          "output_type": "display_data",
          "data": {
            "text/plain": [
              "<Figure size 800x400 with 1 Axes>"
            ],
            "image/png": "[encoded data removed]"
          },
          "metadata": {
            "needs_background": "light"
          }
        }
      ]
    },
    {
      "cell_type": "code",
      "source": [
        "outlier_treatment(Transactions['PACKET_SIZE'])"
      ],
      "metadata": {
        "colab": {
          "base_uri": "https://localhost:8080/"
        },
        "id": "nD1ZO1a8CYQt",
        "outputId": "415187fb-5dc2-404e-ad82-5186ea216a38"
      },
      "execution_count": 33,
      "outputs": [
        {
          "output_type": "execute_result",
          "data": {
            "text/plain": [
              "(112.5, 212.5)"
            ]
          },
          "metadata": {},
          "execution_count": 33
        }
      ]
    },
    {
      "cell_type": "code",
      "source": [
        "#Removing outliers\n",
        "Transactions = Transactions[Transactions[\"PROD_QTY\"] <=2]\n",
        "Transactions = Transactions[Transactions[\"TOT_SALES\"] <=15]\n",
        "Transactions = Transactions[(Transactions[\"PACKET_SIZE\"] <=213) & (Transactions[\"PACKET_SIZE\"] >=111)]"
      ],
      "metadata": {
        "id": "TrWyLysPCZ4O"
      },
      "execution_count": 34,
      "outputs": []
    },
    {
      "cell_type": "code",
      "source": [
        "#checking for final results\n",
        "Transactions.head(2)"
      ],
      "metadata": {
        "colab": {
          "base_uri": "https://localhost:8080/",
          "height": 280
        },
        "id": "wAT-kNGfCdGX",
        "outputId": "8b8e6cb9-bde4-424d-83b0-a3d89bb92c53"
      },
      "execution_count": 35,
      "outputs": [
        {
          "output_type": "execute_result",
          "data": {
            "text/plain": [
              "        DATE STORE_NBR LYLTY_CARD_NBR TXN_ID PROD_NBR                               PROD_NAME  PROD_QTY  TOT_SALES  PACKET_SIZE Transaction_year Transaction_month Transaction_month_day Transaction_week_day\n",
              "0 2018-10-17         1           1000      1        5  Natural Chip        Compny SeaSalt175g         2        6.0          175             2018           October                    17            Wednesday\n",
              "2 2019-05-20         1           1343    383       61  Smiths Crinkle Cut  Chips Chicken 170g         2        2.9          170             2019               May                    20               Monday"
            ],
            "text/html": [
              "\n",
              "  <div id=\"df-f1ee322a-b4b6-445d-b103-c7e09f46b099\">\n",
              "    <div class=\"colab-df-container\">\n",
              "      <div>\n",
              "<style scoped>\n",
              "    .dataframe tbody tr th:only-of-type {\n",
              "        vertical-align: middle;\n",
              "    }\n",
              "\n",
              "    .dataframe tbody tr th {\n",
              "        vertical-align: top;\n",
              "    }\n",
              "\n",
              "    .dataframe thead th {\n",
              "        text-align: right;\n",
              "    }\n",
              "</style>\n",
              "<table border=\"1\" class=\"dataframe\">\n",
              "  <thead>\n",
              "    <tr style=\"text-align: right;\">\n",
              "      <th></th>\n",
              "      <th>DATE</th>\n",
              "      <th>STORE_NBR</th>\n",
              "      <th>LYLTY_CARD_NBR</th>\n",
              "      <th>TXN_ID</th>\n",
              "      <th>PROD_NBR</th>\n",
              "      <th>PROD_NAME</th>\n",
              "      <th>PROD_QTY</th>\n",
              "      <th>TOT_SALES</th>\n",
              "      <th>PACKET_SIZE</th>\n",
              "      <th>Transaction_year</th>\n",
              "      <th>Transaction_month</th>\n",
              "      <th>Transaction_month_day</th>\n",
              "      <th>Transaction_week_day</th>\n",
              "    </tr>\n",
              "  </thead>\n",
              "  <tbody>\n",
              "    <tr>\n",
              "      <th>0</th>\n",
              "      <td>2018-10-17</td>\n",
              "      <td>1</td>\n",
              "      <td>1000</td>\n",
              "      <td>1</td>\n",
              "      <td>5</td>\n",
              "      <td>Natural Chip        Compny SeaSalt175g</td>\n",
              "      <td>2</td>\n",
              "      <td>6.0</td>\n",
              "      <td>175</td>\n",
              "      <td>2018</td>\n",
              "      <td>October</td>\n",
              "      <td>17</td>\n",
              "      <td>Wednesday</td>\n",
              "    </tr>\n",
              "    <tr>\n",
              "      <th>2</th>\n",
              "      <td>2019-05-20</td>\n",
              "      <td>1</td>\n",
              "      <td>1343</td>\n",
              "      <td>383</td>\n",
              "      <td>61</td>\n",
              "      <td>Smiths Crinkle Cut  Chips Chicken 170g</td>\n",
              "      <td>2</td>\n",
              "      <td>2.9</td>\n",
              "      <td>170</td>\n",
              "      <td>2019</td>\n",
              "      <td>May</td>\n",
              "      <td>20</td>\n",
              "      <td>Monday</td>\n",
              "    </tr>\n",
              "  </tbody>\n",
              "</table>\n",
              "</div>\n",
              "      <button class=\"colab-df-convert\" onclick=\"convertToInteractive('df-f1ee322a-b4b6-445d-b103-c7e09f46b099')\"\n",
              "              title=\"Convert this dataframe to an interactive table.\"\n",
              "              style=\"display:none;\">\n",
              "        \n",
              "  <svg xmlns=\"http://www.w3.org/2000/svg\" height=\"24px\"viewBox=\"0 0 24 24\"\n",
              "       width=\"24px\">\n",
              "    <path d=\"M0 0h24v24H0V0z\" fill=\"none\"/>\n",
              "    <path d=\"M18.56 5.44l.94 2.06.94-2.06 2.06-.94-2.06-.94-.94-2.06-.94 2.06-2.06.94zm-11 1L8.5 8.5l.94-2.06 2.06-.94-2.06-.94L8.5 2.5l-.94 2.06-2.06.94zm10 10l.94 2.06.94-2.06 2.06-.94-2.06-.94-.94-2.06-.94 2.06-2.06.94z\"/><path d=\"M17.41 7.96l-1.37-1.37c-.4-.4-.92-.59-1.43-.59-.52 0-1.04.2-1.43.59L10.3 9.45l-7.72 7.72c-.78.78-.78 2.05 0 2.83L4 21.41c.39.39.9.59 1.41.59.51 0 1.02-.2 1.41-.59l7.78-7.78 2.81-2.81c.8-.78.8-2.07 0-2.86zM5.41 20L4 18.59l7.72-7.72 1.47 1.35L5.41 20z\"/>\n",
              "  </svg>\n",
              "      </button>\n",
              "      \n",
              "  <style>\n",
              "    .colab-df-container {\n",
              "      display:flex;\n",
              "      flex-wrap:wrap;\n",
              "      gap: 12px;\n",
              "    }\n",
              "\n",
              "    .colab-df-convert {\n",
              "      background-color: #E8F0FE;\n",
              "      border: none;\n",
              "      border-radius: 50%;\n",
              "      cursor: pointer;\n",
              "      display: none;\n",
              "      fill: #1967D2;\n",
              "      height: 32px;\n",
              "      padding: 0 0 0 0;\n",
              "      width: 32px;\n",
              "    }\n",
              "\n",
              "    .colab-df-convert:hover {\n",
              "      background-color: #E2EBFA;\n",
              "      box-shadow: 0px 1px 2px rgba(60, 64, 67, 0.3), 0px 1px 3px 1px rgba(60, 64, 67, 0.15);\n",
              "      fill: #174EA6;\n",
              "    }\n",
              "\n",
              "    [theme=dark] .colab-df-convert {\n",
              "      background-color: #3B4455;\n",
              "      fill: #D2E3FC;\n",
              "    }\n",
              "\n",
              "    [theme=dark] .colab-df-convert:hover {\n",
              "      background-color: #434B5C;\n",
              "      box-shadow: 0px 1px 3px 1px rgba(0, 0, 0, 0.15);\n",
              "      filter: drop-shadow(0px 1px 2px rgba(0, 0, 0, 0.3));\n",
              "      fill: #FFFFFF;\n",
              "    }\n",
              "  </style>\n",
              "\n",
              "      <script>\n",
              "        const buttonEl =\n",
              "          document.querySelector('#df-f1ee322a-b4b6-445d-b103-c7e09f46b099 button.colab-df-convert');\n",
              "        buttonEl.style.display =\n",
              "          google.colab.kernel.accessAllowed ? 'block' : 'none';\n",
              "\n",
              "        async function convertToInteractive(key) {\n",
              "          const element = document.querySelector('#df-f1ee322a-b4b6-445d-b103-c7e09f46b099');\n",
              "          const dataTable =\n",
              "            await google.colab.kernel.invokeFunction('convertToInteractive',\n",
              "                                                     [key], {});\n",
              "          if (!dataTable) return;\n",
              "\n",
              "          const docLinkHtml = 'Like what you see? Visit the ' +\n",
              "            '<a target=\"_blank\" href=https://colab.research.google.com/notebooks/data_table.ipynb>data table notebook</a>'\n",
              "            + ' to learn more about interactive tables.';\n",
              "          element.innerHTML = '';\n",
              "          dataTable['output_type'] = 'display_data';\n",
              "          await google.colab.output.renderOutput(dataTable, element);\n",
              "          const docLink = document.createElement('div');\n",
              "          docLink.innerHTML = docLinkHtml;\n",
              "          element.appendChild(docLink);\n",
              "        }\n",
              "      </script>\n",
              "    </div>\n",
              "  </div>\n",
              "  "
            ]
          },
          "metadata": {},
          "execution_count": 35
        }
      ]
    },
    {
      "cell_type": "code",
      "source": [
        "Transaction set ready for analysis"
      ],
      "metadata": {
        "id": "otXbYwPXCgn-"
      },
      "execution_count": null,
      "outputs": []
    },
    {
      "cell_type": "code",
      "source": [
        "customers=pd.read_csv('QVI_purchase_behaviour.csv')"
      ],
      "metadata": {
        "id": "k8AXybSnCoz7"
      },
      "execution_count": 36,
      "outputs": []
    },
    {
      "cell_type": "code",
      "source": [
        "customers.head()"
      ],
      "metadata": {
        "colab": {
          "base_uri": "https://localhost:8080/",
          "height": 206
        },
        "id": "_mLa0Gw9CvO7",
        "outputId": "1e2064cf-7d15-4148-9f33-869852d245a8"
      },
      "execution_count": 37,
      "outputs": [
        {
          "output_type": "execute_result",
          "data": {
            "text/plain": [
              "   LYLTY_CARD_NBR               LIFESTAGE PREMIUM_CUSTOMER\n",
              "0            1000   YOUNG SINGLES/COUPLES          Premium\n",
              "1            1002   YOUNG SINGLES/COUPLES       Mainstream\n",
              "2            1003          YOUNG FAMILIES           Budget\n",
              "3            1004   OLDER SINGLES/COUPLES       Mainstream\n",
              "4            1005  MIDAGE SINGLES/COUPLES       Mainstream"
            ],
            "text/html": [
              "\n",
              "  <div id=\"df-ef367315-f294-4cb9-843a-e03d551a1c89\">\n",
              "    <div class=\"colab-df-container\">\n",
              "      <div>\n",
              "<style scoped>\n",
              "    .dataframe tbody tr th:only-of-type {\n",
              "        vertical-align: middle;\n",
              "    }\n",
              "\n",
              "    .dataframe tbody tr th {\n",
              "        vertical-align: top;\n",
              "    }\n",
              "\n",
              "    .dataframe thead th {\n",
              "        text-align: right;\n",
              "    }\n",
              "</style>\n",
              "<table border=\"1\" class=\"dataframe\">\n",
              "  <thead>\n",
              "    <tr style=\"text-align: right;\">\n",
              "      <th></th>\n",
              "      <th>LYLTY_CARD_NBR</th>\n",
              "      <th>LIFESTAGE</th>\n",
              "      <th>PREMIUM_CUSTOMER</th>\n",
              "    </tr>\n",
              "  </thead>\n",
              "  <tbody>\n",
              "    <tr>\n",
              "      <th>0</th>\n",
              "      <td>1000</td>\n",
              "      <td>YOUNG SINGLES/COUPLES</td>\n",
              "      <td>Premium</td>\n",
              "    </tr>\n",
              "    <tr>\n",
              "      <th>1</th>\n",
              "      <td>1002</td>\n",
              "      <td>YOUNG SINGLES/COUPLES</td>\n",
              "      <td>Mainstream</td>\n",
              "    </tr>\n",
              "    <tr>\n",
              "      <th>2</th>\n",
              "      <td>1003</td>\n",
              "      <td>YOUNG FAMILIES</td>\n",
              "      <td>Budget</td>\n",
              "    </tr>\n",
              "    <tr>\n",
              "      <th>3</th>\n",
              "      <td>1004</td>\n",
              "      <td>OLDER SINGLES/COUPLES</td>\n",
              "      <td>Mainstream</td>\n",
              "    </tr>\n",
              "    <tr>\n",
              "      <th>4</th>\n",
              "      <td>1005</td>\n",
              "      <td>MIDAGE SINGLES/COUPLES</td>\n",
              "      <td>Mainstream</td>\n",
              "    </tr>\n",
              "  </tbody>\n",
              "</table>\n",
              "</div>\n",
              "      <button class=\"colab-df-convert\" onclick=\"convertToInteractive('df-ef367315-f294-4cb9-843a-e03d551a1c89')\"\n",
              "              title=\"Convert this dataframe to an interactive table.\"\n",
              "              style=\"display:none;\">\n",
              "        \n",
              "  <svg xmlns=\"http://www.w3.org/2000/svg\" height=\"24px\"viewBox=\"0 0 24 24\"\n",
              "       width=\"24px\">\n",
              "    <path d=\"M0 0h24v24H0V0z\" fill=\"none\"/>\n",
              "    <path d=\"M18.56 5.44l.94 2.06.94-2.06 2.06-.94-2.06-.94-.94-2.06-.94 2.06-2.06.94zm-11 1L8.5 8.5l.94-2.06 2.06-.94-2.06-.94L8.5 2.5l-.94 2.06-2.06.94zm10 10l.94 2.06.94-2.06 2.06-.94-2.06-.94-.94-2.06-.94 2.06-2.06.94z\"/><path d=\"M17.41 7.96l-1.37-1.37c-.4-.4-.92-.59-1.43-.59-.52 0-1.04.2-1.43.59L10.3 9.45l-7.72 7.72c-.78.78-.78 2.05 0 2.83L4 21.41c.39.39.9.59 1.41.59.51 0 1.02-.2 1.41-.59l7.78-7.78 2.81-2.81c.8-.78.8-2.07 0-2.86zM5.41 20L4 18.59l7.72-7.72 1.47 1.35L5.41 20z\"/>\n",
              "  </svg>\n",
              "      </button>\n",
              "      \n",
              "  <style>\n",
              "    .colab-df-container {\n",
              "      display:flex;\n",
              "      flex-wrap:wrap;\n",
              "      gap: 12px;\n",
              "    }\n",
              "\n",
              "    .colab-df-convert {\n",
              "      background-color: #E8F0FE;\n",
              "      border: none;\n",
              "      border-radius: 50%;\n",
              "      cursor: pointer;\n",
              "      display: none;\n",
              "      fill: #1967D2;\n",
              "      height: 32px;\n",
              "      padding: 0 0 0 0;\n",
              "      width: 32px;\n",
              "    }\n",
              "\n",
              "    .colab-df-convert:hover {\n",
              "      background-color: #E2EBFA;\n",
              "      box-shadow: 0px 1px 2px rgba(60, 64, 67, 0.3), 0px 1px 3px 1px rgba(60, 64, 67, 0.15);\n",
              "      fill: #174EA6;\n",
              "    }\n",
              "\n",
              "    [theme=dark] .colab-df-convert {\n",
              "      background-color: #3B4455;\n",
              "      fill: #D2E3FC;\n",
              "    }\n",
              "\n",
              "    [theme=dark] .colab-df-convert:hover {\n",
              "      background-color: #434B5C;\n",
              "      box-shadow: 0px 1px 3px 1px rgba(0, 0, 0, 0.15);\n",
              "      filter: drop-shadow(0px 1px 2px rgba(0, 0, 0, 0.3));\n",
              "      fill: #FFFFFF;\n",
              "    }\n",
              "  </style>\n",
              "\n",
              "      <script>\n",
              "        const buttonEl =\n",
              "          document.querySelector('#df-ef367315-f294-4cb9-843a-e03d551a1c89 button.colab-df-convert');\n",
              "        buttonEl.style.display =\n",
              "          google.colab.kernel.accessAllowed ? 'block' : 'none';\n",
              "\n",
              "        async function convertToInteractive(key) {\n",
              "          const element = document.querySelector('#df-ef367315-f294-4cb9-843a-e03d551a1c89');\n",
              "          const dataTable =\n",
              "            await google.colab.kernel.invokeFunction('convertToInteractive',\n",
              "                                                     [key], {});\n",
              "          if (!dataTable) return;\n",
              "\n",
              "          const docLinkHtml = 'Like what you see? Visit the ' +\n",
              "            '<a target=\"_blank\" href=https://colab.research.google.com/notebooks/data_table.ipynb>data table notebook</a>'\n",
              "            + ' to learn more about interactive tables.';\n",
              "          element.innerHTML = '';\n",
              "          dataTable['output_type'] = 'display_data';\n",
              "          await google.colab.output.renderOutput(dataTable, element);\n",
              "          const docLink = document.createElement('div');\n",
              "          docLink.innerHTML = docLinkHtml;\n",
              "          element.appendChild(docLink);\n",
              "        }\n",
              "      </script>\n",
              "    </div>\n",
              "  </div>\n",
              "  "
            ]
          },
          "metadata": {},
          "execution_count": 37
        }
      ]
    },
    {
      "cell_type": "code",
      "source": [
        "#checking for data general information\n",
        "customers.info()"
      ],
      "metadata": {
        "colab": {
          "base_uri": "https://localhost:8080/"
        },
        "id": "jX0Z6zjrCxXz",
        "outputId": "3205f2a8-c1c9-49e1-d6d8-575a7d1eda81"
      },
      "execution_count": 38,
      "outputs": [
        {
          "output_type": "stream",
          "name": "stdout",
          "text": [
            "<class 'pandas.core.frame.DataFrame'>\n",
            "RangeIndex: 72637 entries, 0 to 72636\n",
            "Data columns (total 3 columns):\n",
            " #   Column            Non-Null Count  Dtype \n",
            "---  ------            --------------  ----- \n",
            " 0   LYLTY_CARD_NBR    72637 non-null  int64 \n",
            " 1   LIFESTAGE         72637 non-null  object\n",
            " 2   PREMIUM_CUSTOMER  72637 non-null  object\n",
            "dtypes: int64(1), object(2)\n",
            "memory usage: 1.7+ MB\n"
          ]
        }
      ]
    },
    {
      "cell_type": "code",
      "source": [
        "customers[customers.duplicated()]"
      ],
      "metadata": {
        "colab": {
          "base_uri": "https://localhost:8080/",
          "height": 49
        },
        "id": "uD6qfZ58C1xR",
        "outputId": "64c03e47-470b-45d7-b163-50a3d5751c17"
      },
      "execution_count": 39,
      "outputs": [
        {
          "output_type": "execute_result",
          "data": {
            "text/plain": [
              "Empty DataFrame\n",
              "Columns: [LYLTY_CARD_NBR, LIFESTAGE, PREMIUM_CUSTOMER]\n",
              "Index: []"
            ],
            "text/html": [
              "\n",
              "  <div id=\"df-b8391aa8-92f6-4b3f-95fb-2fefadae60cd\">\n",
              "    <div class=\"colab-df-container\">\n",
              "      <div>\n",
              "<style scoped>\n",
              "    .dataframe tbody tr th:only-of-type {\n",
              "        vertical-align: middle;\n",
              "    }\n",
              "\n",
              "    .dataframe tbody tr th {\n",
              "        vertical-align: top;\n",
              "    }\n",
              "\n",
              "    .dataframe thead th {\n",
              "        text-align: right;\n",
              "    }\n",
              "</style>\n",
              "<table border=\"1\" class=\"dataframe\">\n",
              "  <thead>\n",
              "    <tr style=\"text-align: right;\">\n",
              "      <th></th>\n",
              "      <th>LYLTY_CARD_NBR</th>\n",
              "      <th>LIFESTAGE</th>\n",
              "      <th>PREMIUM_CUSTOMER</th>\n",
              "    </tr>\n",
              "  </thead>\n",
              "  <tbody>\n",
              "  </tbody>\n",
              "</table>\n",
              "</div>\n",
              "      <button class=\"colab-df-convert\" onclick=\"convertToInteractive('df-b8391aa8-92f6-4b3f-95fb-2fefadae60cd')\"\n",
              "              title=\"Convert this dataframe to an interactive table.\"\n",
              "              style=\"display:none;\">\n",
              "        \n",
              "  <svg xmlns=\"http://www.w3.org/2000/svg\" height=\"24px\"viewBox=\"0 0 24 24\"\n",
              "       width=\"24px\">\n",
              "    <path d=\"M0 0h24v24H0V0z\" fill=\"none\"/>\n",
              "    <path d=\"M18.56 5.44l.94 2.06.94-2.06 2.06-.94-2.06-.94-.94-2.06-.94 2.06-2.06.94zm-11 1L8.5 8.5l.94-2.06 2.06-.94-2.06-.94L8.5 2.5l-.94 2.06-2.06.94zm10 10l.94 2.06.94-2.06 2.06-.94-2.06-.94-.94-2.06-.94 2.06-2.06.94z\"/><path d=\"M17.41 7.96l-1.37-1.37c-.4-.4-.92-.59-1.43-.59-.52 0-1.04.2-1.43.59L10.3 9.45l-7.72 7.72c-.78.78-.78 2.05 0 2.83L4 21.41c.39.39.9.59 1.41.59.51 0 1.02-.2 1.41-.59l7.78-7.78 2.81-2.81c.8-.78.8-2.07 0-2.86zM5.41 20L4 18.59l7.72-7.72 1.47 1.35L5.41 20z\"/>\n",
              "  </svg>\n",
              "      </button>\n",
              "      \n",
              "  <style>\n",
              "    .colab-df-container {\n",
              "      display:flex;\n",
              "      flex-wrap:wrap;\n",
              "      gap: 12px;\n",
              "    }\n",
              "\n",
              "    .colab-df-convert {\n",
              "      background-color: #E8F0FE;\n",
              "      border: none;\n",
              "      border-radius: 50%;\n",
              "      cursor: pointer;\n",
              "      display: none;\n",
              "      fill: #1967D2;\n",
              "      height: 32px;\n",
              "      padding: 0 0 0 0;\n",
              "      width: 32px;\n",
              "    }\n",
              "\n",
              "    .colab-df-convert:hover {\n",
              "      background-color: #E2EBFA;\n",
              "      box-shadow: 0px 1px 2px rgba(60, 64, 67, 0.3), 0px 1px 3px 1px rgba(60, 64, 67, 0.15);\n",
              "      fill: #174EA6;\n",
              "    }\n",
              "\n",
              "    [theme=dark] .colab-df-convert {\n",
              "      background-color: #3B4455;\n",
              "      fill: #D2E3FC;\n",
              "    }\n",
              "\n",
              "    [theme=dark] .colab-df-convert:hover {\n",
              "      background-color: #434B5C;\n",
              "      box-shadow: 0px 1px 3px 1px rgba(0, 0, 0, 0.15);\n",
              "      filter: drop-shadow(0px 1px 2px rgba(0, 0, 0, 0.3));\n",
              "      fill: #FFFFFF;\n",
              "    }\n",
              "  </style>\n",
              "\n",
              "      <script>\n",
              "        const buttonEl =\n",
              "          document.querySelector('#df-b8391aa8-92f6-4b3f-95fb-2fefadae60cd button.colab-df-convert');\n",
              "        buttonEl.style.display =\n",
              "          google.colab.kernel.accessAllowed ? 'block' : 'none';\n",
              "\n",
              "        async function convertToInteractive(key) {\n",
              "          const element = document.querySelector('#df-b8391aa8-92f6-4b3f-95fb-2fefadae60cd');\n",
              "          const dataTable =\n",
              "            await google.colab.kernel.invokeFunction('convertToInteractive',\n",
              "                                                     [key], {});\n",
              "          if (!dataTable) return;\n",
              "\n",
              "          const docLinkHtml = 'Like what you see? Visit the ' +\n",
              "            '<a target=\"_blank\" href=https://colab.research.google.com/notebooks/data_table.ipynb>data table notebook</a>'\n",
              "            + ' to learn more about interactive tables.';\n",
              "          element.innerHTML = '';\n",
              "          dataTable['output_type'] = 'display_data';\n",
              "          await google.colab.output.renderOutput(dataTable, element);\n",
              "          const docLink = document.createElement('div');\n",
              "          docLink.innerHTML = docLinkHtml;\n",
              "          element.appendChild(docLink);\n",
              "        }\n",
              "      </script>\n",
              "    </div>\n",
              "  </div>\n",
              "  "
            ]
          },
          "metadata": {},
          "execution_count": 39
        }
      ]
    },
    {
      "cell_type": "code",
      "source": [
        "customers['LYLTY_CARD_NBR']=customers['LYLTY_CARD_NBR'].astype(str)"
      ],
      "metadata": {
        "id": "YxNWvCXpC6km"
      },
      "execution_count": 40,
      "outputs": []
    },
    {
      "cell_type": "code",
      "source": [
        "# Collecting the categorical columns into  list\n",
        "cat_col=[]\n",
        "for x in customers.dtypes.index:\n",
        "    if customers.dtypes[x]=='object':\n",
        "        cat_col.append(x)\n",
        "cat_col"
      ],
      "metadata": {
        "colab": {
          "base_uri": "https://localhost:8080/"
        },
        "id": "zEcb6pqADBe7",
        "outputId": "86cc6e5c-bb4e-4af0-d0ca-2392fd2334bd"
      },
      "execution_count": 41,
      "outputs": [
        {
          "output_type": "execute_result",
          "data": {
            "text/plain": [
              "['LYLTY_CARD_NBR', 'LIFESTAGE', 'PREMIUM_CUSTOMER']"
            ]
          },
          "metadata": {},
          "execution_count": 41
        }
      ]
    },
    {
      "cell_type": "markdown",
      "source": [],
      "metadata": {
        "id": "zVYg8kb2FeTZ"
      }
    },
    {
      "cell_type": "code",
      "source": [
        "#checking for consistency of values in categorical columns mentioned in the previous list\n",
        "for col in cat_col:\n",
        "    print(col)\n",
        "    print(customers[col].unique())\n",
        "    print()\n",
        "    print('*******')\n",
        "    print()"
      ],
      "metadata": {
        "colab": {
          "base_uri": "https://localhost:8080/"
        },
        "id": "ZHhNzuN3FZja",
        "outputId": "e88403f3-d0e8-4ddc-9e6a-14bb333d6164"
      },
      "execution_count": 42,
      "outputs": [
        {
          "output_type": "stream",
          "name": "stdout",
          "text": [
            "LYLTY_CARD_NBR\n",
            "['1000' '1002' '1003' ... '2370751' '2370961' '2373711']\n",
            "\n",
            "*******\n",
            "\n",
            "LIFESTAGE\n",
            "['YOUNG SINGLES/COUPLES' 'YOUNG FAMILIES' 'OLDER SINGLES/COUPLES'\n",
            " 'MIDAGE SINGLES/COUPLES' 'NEW FAMILIES' 'OLDER FAMILIES' 'RETIREES']\n",
            "\n",
            "*******\n",
            "\n",
            "PREMIUM_CUSTOMER\n",
            "['Premium' 'Mainstream' 'Budget']\n",
            "\n",
            "*******\n",
            "\n"
          ]
        }
      ]
    },
    {
      "cell_type": "markdown",
      "source": [
        "now the dtasets are ready for analysis"
      ],
      "metadata": {
        "id": "XbMY2GDkFgJr"
      }
    },
    {
      "cell_type": "code",
      "source": [
        "# Merging Transactions & customers into a df datasets\n",
        "df=Transactions.merge(customers,on='LYLTY_CARD_NBR',how='inner')"
      ],
      "metadata": {
        "id": "WHQjAb5OFl2O"
      },
      "execution_count": 43,
      "outputs": []
    },
    {
      "cell_type": "code",
      "source": [
        "df.info()"
      ],
      "metadata": {
        "colab": {
          "base_uri": "https://localhost:8080/"
        },
        "id": "PaKUqsKAFqky",
        "outputId": "e64260a8-b81e-4b03-ef02-670596e9ef76"
      },
      "execution_count": 44,
      "outputs": [
        {
          "output_type": "stream",
          "name": "stdout",
          "text": [
            "<class 'pandas.core.frame.DataFrame'>\n",
            "Int64Index: 191857 entries, 0 to 191856\n",
            "Data columns (total 15 columns):\n",
            " #   Column                 Non-Null Count   Dtype         \n",
            "---  ------                 --------------   -----         \n",
            " 0   DATE                   191857 non-null  datetime64[ns]\n",
            " 1   STORE_NBR              191857 non-null  object        \n",
            " 2   LYLTY_CARD_NBR         191857 non-null  object        \n",
            " 3   TXN_ID                 191857 non-null  object        \n",
            " 4   PROD_NBR               191857 non-null  object        \n",
            " 5   PROD_NAME              191857 non-null  object        \n",
            " 6   PROD_QTY               191857 non-null  int64         \n",
            " 7   TOT_SALES              191857 non-null  float64       \n",
            " 8   PACKET_SIZE            191857 non-null  int64         \n",
            " 9   Transaction_year       191857 non-null  object        \n",
            " 10  Transaction_month      191857 non-null  object        \n",
            " 11  Transaction_month_day  191857 non-null  object        \n",
            " 12  Transaction_week_day   191857 non-null  object        \n",
            " 13  LIFESTAGE              191857 non-null  object        \n",
            " 14  PREMIUM_CUSTOMER       191857 non-null  object        \n",
            "dtypes: datetime64[ns](1), float64(1), int64(2), object(11)\n",
            "memory usage: 23.4+ MB\n"
          ]
        }
      ]
    },
    {
      "cell_type": "markdown",
      "source": [
        "Exploratory data analysis"
      ],
      "metadata": {
        "id": "lpdbKj1ZFv69"
      }
    },
    {
      "cell_type": "code",
      "source": [
        "#Checking general statistics\n",
        "df.describe()"
      ],
      "metadata": {
        "colab": {
          "base_uri": "https://localhost:8080/",
          "height": 300
        },
        "id": "EFODfF-tFzey",
        "outputId": "842d584c-9299-4d3e-bac8-5e61f0e63a87"
      },
      "execution_count": 45,
      "outputs": [
        {
          "output_type": "execute_result",
          "data": {
            "text/plain": [
              "            PROD_QTY      TOT_SALES    PACKET_SIZE\n",
              "count  191857.000000  191857.000000  191857.000000\n",
              "mean        1.894244       6.913586     163.465519\n",
              "std         0.307526       2.182373      18.536655\n",
              "min         1.000000       1.700000     125.000000\n",
              "25%         2.000000       5.400000     150.000000\n",
              "50%         2.000000       7.200000     170.000000\n",
              "75%         2.000000       8.800000     175.000000\n",
              "max         2.000000      10.800000     210.000000"
            ],
            "text/html": [
              "\n",
              "  <div id=\"df-2559cefa-0e39-415d-a690-4e1e1ab85c45\">\n",
              "    <div class=\"colab-df-container\">\n",
              "      <div>\n",
              "<style scoped>\n",
              "    .dataframe tbody tr th:only-of-type {\n",
              "        vertical-align: middle;\n",
              "    }\n",
              "\n",
              "    .dataframe tbody tr th {\n",
              "        vertical-align: top;\n",
              "    }\n",
              "\n",
              "    .dataframe thead th {\n",
              "        text-align: right;\n",
              "    }\n",
              "</style>\n",
              "<table border=\"1\" class=\"dataframe\">\n",
              "  <thead>\n",
              "    <tr style=\"text-align: right;\">\n",
              "      <th></th>\n",
              "      <th>PROD_QTY</th>\n",
              "      <th>TOT_SALES</th>\n",
              "      <th>PACKET_SIZE</th>\n",
              "    </tr>\n",
              "  </thead>\n",
              "  <tbody>\n",
              "    <tr>\n",
              "      <th>count</th>\n",
              "      <td>191857.000000</td>\n",
              "      <td>191857.000000</td>\n",
              "      <td>191857.000000</td>\n",
              "    </tr>\n",
              "    <tr>\n",
              "      <th>mean</th>\n",
              "      <td>1.894244</td>\n",
              "      <td>6.913586</td>\n",
              "      <td>163.465519</td>\n",
              "    </tr>\n",
              "    <tr>\n",
              "      <th>std</th>\n",
              "      <td>0.307526</td>\n",
              "      <td>2.182373</td>\n",
              "      <td>18.536655</td>\n",
              "    </tr>\n",
              "    <tr>\n",
              "      <th>min</th>\n",
              "      <td>1.000000</td>\n",
              "      <td>1.700000</td>\n",
              "      <td>125.000000</td>\n",
              "    </tr>\n",
              "    <tr>\n",
              "      <th>25%</th>\n",
              "      <td>2.000000</td>\n",
              "      <td>5.400000</td>\n",
              "      <td>150.000000</td>\n",
              "    </tr>\n",
              "    <tr>\n",
              "      <th>50%</th>\n",
              "      <td>2.000000</td>\n",
              "      <td>7.200000</td>\n",
              "      <td>170.000000</td>\n",
              "    </tr>\n",
              "    <tr>\n",
              "      <th>75%</th>\n",
              "      <td>2.000000</td>\n",
              "      <td>8.800000</td>\n",
              "      <td>175.000000</td>\n",
              "    </tr>\n",
              "    <tr>\n",
              "      <th>max</th>\n",
              "      <td>2.000000</td>\n",
              "      <td>10.800000</td>\n",
              "      <td>210.000000</td>\n",
              "    </tr>\n",
              "  </tbody>\n",
              "</table>\n",
              "</div>\n",
              "      <button class=\"colab-df-convert\" onclick=\"convertToInteractive('df-2559cefa-0e39-415d-a690-4e1e1ab85c45')\"\n",
              "              title=\"Convert this dataframe to an interactive table.\"\n",
              "              style=\"display:none;\">\n",
              "        \n",
              "  <svg xmlns=\"http://www.w3.org/2000/svg\" height=\"24px\"viewBox=\"0 0 24 24\"\n",
              "       width=\"24px\">\n",
              "    <path d=\"M0 0h24v24H0V0z\" fill=\"none\"/>\n",
              "    <path d=\"M18.56 5.44l.94 2.06.94-2.06 2.06-.94-2.06-.94-.94-2.06-.94 2.06-2.06.94zm-11 1L8.5 8.5l.94-2.06 2.06-.94-2.06-.94L8.5 2.5l-.94 2.06-2.06.94zm10 10l.94 2.06.94-2.06 2.06-.94-2.06-.94-.94-2.06-.94 2.06-2.06.94z\"/><path d=\"M17.41 7.96l-1.37-1.37c-.4-.4-.92-.59-1.43-.59-.52 0-1.04.2-1.43.59L10.3 9.45l-7.72 7.72c-.78.78-.78 2.05 0 2.83L4 21.41c.39.39.9.59 1.41.59.51 0 1.02-.2 1.41-.59l7.78-7.78 2.81-2.81c.8-.78.8-2.07 0-2.86zM5.41 20L4 18.59l7.72-7.72 1.47 1.35L5.41 20z\"/>\n",
              "  </svg>\n",
              "      </button>\n",
              "      \n",
              "  <style>\n",
              "    .colab-df-container {\n",
              "      display:flex;\n",
              "      flex-wrap:wrap;\n",
              "      gap: 12px;\n",
              "    }\n",
              "\n",
              "    .colab-df-convert {\n",
              "      background-color: #E8F0FE;\n",
              "      border: none;\n",
              "      border-radius: 50%;\n",
              "      cursor: pointer;\n",
              "      display: none;\n",
              "      fill: #1967D2;\n",
              "      height: 32px;\n",
              "      padding: 0 0 0 0;\n",
              "      width: 32px;\n",
              "    }\n",
              "\n",
              "    .colab-df-convert:hover {\n",
              "      background-color: #E2EBFA;\n",
              "      box-shadow: 0px 1px 2px rgba(60, 64, 67, 0.3), 0px 1px 3px 1px rgba(60, 64, 67, 0.15);\n",
              "      fill: #174EA6;\n",
              "    }\n",
              "\n",
              "    [theme=dark] .colab-df-convert {\n",
              "      background-color: #3B4455;\n",
              "      fill: #D2E3FC;\n",
              "    }\n",
              "\n",
              "    [theme=dark] .colab-df-convert:hover {\n",
              "      background-color: #434B5C;\n",
              "      box-shadow: 0px 1px 3px 1px rgba(0, 0, 0, 0.15);\n",
              "      filter: drop-shadow(0px 1px 2px rgba(0, 0, 0, 0.3));\n",
              "      fill: #FFFFFF;\n",
              "    }\n",
              "  </style>\n",
              "\n",
              "      <script>\n",
              "        const buttonEl =\n",
              "          document.querySelector('#df-2559cefa-0e39-415d-a690-4e1e1ab85c45 button.colab-df-convert');\n",
              "        buttonEl.style.display =\n",
              "          google.colab.kernel.accessAllowed ? 'block' : 'none';\n",
              "\n",
              "        async function convertToInteractive(key) {\n",
              "          const element = document.querySelector('#df-2559cefa-0e39-415d-a690-4e1e1ab85c45');\n",
              "          const dataTable =\n",
              "            await google.colab.kernel.invokeFunction('convertToInteractive',\n",
              "                                                     [key], {});\n",
              "          if (!dataTable) return;\n",
              "\n",
              "          const docLinkHtml = 'Like what you see? Visit the ' +\n",
              "            '<a target=\"_blank\" href=https://colab.research.google.com/notebooks/data_table.ipynb>data table notebook</a>'\n",
              "            + ' to learn more about interactive tables.';\n",
              "          element.innerHTML = '';\n",
              "          dataTable['output_type'] = 'display_data';\n",
              "          await google.colab.output.renderOutput(dataTable, element);\n",
              "          const docLink = document.createElement('div');\n",
              "          docLink.innerHTML = docLinkHtml;\n",
              "          element.appendChild(docLink);\n",
              "        }\n",
              "      </script>\n",
              "    </div>\n",
              "  </div>\n",
              "  "
            ]
          },
          "metadata": {},
          "execution_count": 45
        }
      ]
    },
    {
      "cell_type": "code",
      "source": [],
      "metadata": {
        "id": "8wPzDcudF32z"
      },
      "execution_count": null,
      "outputs": []
    },
    {
      "cell_type": "markdown",
      "source": [
        "Univariate Analysis\n",
        "here, we will investigate distributions of individual variables along the dataset"
      ],
      "metadata": {
        "id": "JWaksHlSF9EH"
      }
    },
    {
      "cell_type": "code",
      "source": [
        "df.head(2)"
      ],
      "metadata": {
        "colab": {
          "base_uri": "https://localhost:8080/",
          "height": 280
        },
        "id": "lQY843ngGAoN",
        "outputId": "96696541-6fec-4fc8-e111-e72452994ceb"
      },
      "execution_count": 46,
      "outputs": [
        {
          "output_type": "execute_result",
          "data": {
            "text/plain": [
              "        DATE STORE_NBR LYLTY_CARD_NBR TXN_ID PROD_NBR                               PROD_NAME  PROD_QTY  TOT_SALES  PACKET_SIZE Transaction_year Transaction_month Transaction_month_day Transaction_week_day               LIFESTAGE PREMIUM_CUSTOMER\n",
              "0 2018-10-17         1           1000      1        5  Natural Chip        Compny SeaSalt175g         2        6.0          175             2018           October                    17            Wednesday   YOUNG SINGLES/COUPLES          Premium\n",
              "1 2019-05-20         1           1343    383       61  Smiths Crinkle Cut  Chips Chicken 170g         2        2.9          170             2019               May                    20               Monday  MIDAGE SINGLES/COUPLES           Budget"
            ],
            "text/html": [
              "\n",
              "  <div id=\"df-dba57b11-14df-4efd-9690-540310b8b398\">\n",
              "    <div class=\"colab-df-container\">\n",
              "      <div>\n",
              "<style scoped>\n",
              "    .dataframe tbody tr th:only-of-type {\n",
              "        vertical-align: middle;\n",
              "    }\n",
              "\n",
              "    .dataframe tbody tr th {\n",
              "        vertical-align: top;\n",
              "    }\n",
              "\n",
              "    .dataframe thead th {\n",
              "        text-align: right;\n",
              "    }\n",
              "</style>\n",
              "<table border=\"1\" class=\"dataframe\">\n",
              "  <thead>\n",
              "    <tr style=\"text-align: right;\">\n",
              "      <th></th>\n",
              "      <th>DATE</th>\n",
              "      <th>STORE_NBR</th>\n",
              "      <th>LYLTY_CARD_NBR</th>\n",
              "      <th>TXN_ID</th>\n",
              "      <th>PROD_NBR</th>\n",
              "      <th>PROD_NAME</th>\n",
              "      <th>PROD_QTY</th>\n",
              "      <th>TOT_SALES</th>\n",
              "      <th>PACKET_SIZE</th>\n",
              "      <th>Transaction_year</th>\n",
              "      <th>Transaction_month</th>\n",
              "      <th>Transaction_month_day</th>\n",
              "      <th>Transaction_week_day</th>\n",
              "      <th>LIFESTAGE</th>\n",
              "      <th>PREMIUM_CUSTOMER</th>\n",
              "    </tr>\n",
              "  </thead>\n",
              "  <tbody>\n",
              "    <tr>\n",
              "      <th>0</th>\n",
              "      <td>2018-10-17</td>\n",
              "      <td>1</td>\n",
              "      <td>1000</td>\n",
              "      <td>1</td>\n",
              "      <td>5</td>\n",
              "      <td>Natural Chip        Compny SeaSalt175g</td>\n",
              "      <td>2</td>\n",
              "      <td>6.0</td>\n",
              "      <td>175</td>\n",
              "      <td>2018</td>\n",
              "      <td>October</td>\n",
              "      <td>17</td>\n",
              "      <td>Wednesday</td>\n",
              "      <td>YOUNG SINGLES/COUPLES</td>\n",
              "      <td>Premium</td>\n",
              "    </tr>\n",
              "    <tr>\n",
              "      <th>1</th>\n",
              "      <td>2019-05-20</td>\n",
              "      <td>1</td>\n",
              "      <td>1343</td>\n",
              "      <td>383</td>\n",
              "      <td>61</td>\n",
              "      <td>Smiths Crinkle Cut  Chips Chicken 170g</td>\n",
              "      <td>2</td>\n",
              "      <td>2.9</td>\n",
              "      <td>170</td>\n",
              "      <td>2019</td>\n",
              "      <td>May</td>\n",
              "      <td>20</td>\n",
              "      <td>Monday</td>\n",
              "      <td>MIDAGE SINGLES/COUPLES</td>\n",
              "      <td>Budget</td>\n",
              "    </tr>\n",
              "  </tbody>\n",
              "</table>\n",
              "</div>\n",
              "      <button class=\"colab-df-convert\" onclick=\"convertToInteractive('df-dba57b11-14df-4efd-9690-540310b8b398')\"\n",
              "              title=\"Convert this dataframe to an interactive table.\"\n",
              "              style=\"display:none;\">\n",
              "        \n",
              "  <svg xmlns=\"http://www.w3.org/2000/svg\" height=\"24px\"viewBox=\"0 0 24 24\"\n",
              "       width=\"24px\">\n",
              "    <path d=\"M0 0h24v24H0V0z\" fill=\"none\"/>\n",
              "    <path d=\"M18.56 5.44l.94 2.06.94-2.06 2.06-.94-2.06-.94-.94-2.06-.94 2.06-2.06.94zm-11 1L8.5 8.5l.94-2.06 2.06-.94-2.06-.94L8.5 2.5l-.94 2.06-2.06.94zm10 10l.94 2.06.94-2.06 2.06-.94-2.06-.94-.94-2.06-.94 2.06-2.06.94z\"/><path d=\"M17.41 7.96l-1.37-1.37c-.4-.4-.92-.59-1.43-.59-.52 0-1.04.2-1.43.59L10.3 9.45l-7.72 7.72c-.78.78-.78 2.05 0 2.83L4 21.41c.39.39.9.59 1.41.59.51 0 1.02-.2 1.41-.59l7.78-7.78 2.81-2.81c.8-.78.8-2.07 0-2.86zM5.41 20L4 18.59l7.72-7.72 1.47 1.35L5.41 20z\"/>\n",
              "  </svg>\n",
              "      </button>\n",
              "      \n",
              "  <style>\n",
              "    .colab-df-container {\n",
              "      display:flex;\n",
              "      flex-wrap:wrap;\n",
              "      gap: 12px;\n",
              "    }\n",
              "\n",
              "    .colab-df-convert {\n",
              "      background-color: #E8F0FE;\n",
              "      border: none;\n",
              "      border-radius: 50%;\n",
              "      cursor: pointer;\n",
              "      display: none;\n",
              "      fill: #1967D2;\n",
              "      height: 32px;\n",
              "      padding: 0 0 0 0;\n",
              "      width: 32px;\n",
              "    }\n",
              "\n",
              "    .colab-df-convert:hover {\n",
              "      background-color: #E2EBFA;\n",
              "      box-shadow: 0px 1px 2px rgba(60, 64, 67, 0.3), 0px 1px 3px 1px rgba(60, 64, 67, 0.15);\n",
              "      fill: #174EA6;\n",
              "    }\n",
              "\n",
              "    [theme=dark] .colab-df-convert {\n",
              "      background-color: #3B4455;\n",
              "      fill: #D2E3FC;\n",
              "    }\n",
              "\n",
              "    [theme=dark] .colab-df-convert:hover {\n",
              "      background-color: #434B5C;\n",
              "      box-shadow: 0px 1px 3px 1px rgba(0, 0, 0, 0.15);\n",
              "      filter: drop-shadow(0px 1px 2px rgba(0, 0, 0, 0.3));\n",
              "      fill: #FFFFFF;\n",
              "    }\n",
              "  </style>\n",
              "\n",
              "      <script>\n",
              "        const buttonEl =\n",
              "          document.querySelector('#df-dba57b11-14df-4efd-9690-540310b8b398 button.colab-df-convert');\n",
              "        buttonEl.style.display =\n",
              "          google.colab.kernel.accessAllowed ? 'block' : 'none';\n",
              "\n",
              "        async function convertToInteractive(key) {\n",
              "          const element = document.querySelector('#df-dba57b11-14df-4efd-9690-540310b8b398');\n",
              "          const dataTable =\n",
              "            await google.colab.kernel.invokeFunction('convertToInteractive',\n",
              "                                                     [key], {});\n",
              "          if (!dataTable) return;\n",
              "\n",
              "          const docLinkHtml = 'Like what you see? Visit the ' +\n",
              "            '<a target=\"_blank\" href=https://colab.research.google.com/notebooks/data_table.ipynb>data table notebook</a>'\n",
              "            + ' to learn more about interactive tables.';\n",
              "          element.innerHTML = '';\n",
              "          dataTable['output_type'] = 'display_data';\n",
              "          await google.colab.output.renderOutput(dataTable, element);\n",
              "          const docLink = document.createElement('div');\n",
              "          docLink.innerHTML = docLinkHtml;\n",
              "          element.appendChild(docLink);\n",
              "        }\n",
              "      </script>\n",
              "    </div>\n",
              "  </div>\n",
              "  "
            ]
          },
          "metadata": {},
          "execution_count": 46
        }
      ]
    },
    {
      "cell_type": "code",
      "source": [
        "#Transactions distribution per sales\n",
        "plt.figure(figsize=(8,4),dpi=100);\n",
        "sns.histplot(df['TOT_SALES'],color=base_color);\n",
        "plt.axvline(df['TOT_SALES'].mean())\n",
        "plt.title('Transactions distribution per total sales');"
      ],
      "metadata": {
        "colab": {
          "base_uri": "https://localhost:8080/",
          "height": 404
        },
        "id": "umuLs6FDGD2L",
        "outputId": "b81ff6a1-3009-43ab-b7c4-795d85e74c4a"
      },
      "execution_count": 47,
      "outputs": [
        {
          "output_type": "display_data",
          "data": {
            "text/plain": [
              "<Figure size 800x400 with 1 Axes>"
            ],
            "image/png": "[encoded data removed]"
          },
          "metadata": {
            "needs_background": "light"
          }
        }
      ]
    },
    {
      "cell_type": "code",
      "source": [
        "df['TOT_SALES'].mean()"
      ],
      "metadata": {
        "colab": {
          "base_uri": "https://localhost:8080/"
        },
        "id": "201IHf5JGH0D",
        "outputId": "658a5b2c-e7fa-452d-c745-dc0c977f3ba7"
      },
      "execution_count": 48,
      "outputs": [
        {
          "output_type": "execute_result",
          "data": {
            "text/plain": [
              "6.913585639304274"
            ]
          },
          "metadata": {},
          "execution_count": 48
        }
      ]
    },
    {
      "cell_type": "code",
      "source": [
        "#Transactions distribution per purchased quantity\n",
        "plt.figure(figsize=(8,4),dpi=100);\n",
        "sns.histplot(df['PROD_QTY'],color=base_color);\n",
        "plt.title('Transactions distribution per purchased quantity');"
      ],
      "metadata": {
        "colab": {
          "base_uri": "https://localhost:8080/",
          "height": 404
        },
        "id": "y9HHTwWMGLO4",
        "outputId": "6fb82afe-8a04-419d-cf85-92ea788f444a"
      },
      "execution_count": 49,
      "outputs": [
        {
          "output_type": "display_data",
          "data": {
            "text/plain": [
              "<Figure size 800x400 with 1 Axes>"
            ],
            "image/png": "[encoded data removed]"
          },
          "metadata": {
            "needs_background": "light"
          }
        }
      ]
    },
    {
      "cell_type": "code",
      "source": [
        "#Transactions distribution per product size\n",
        "plt.figure(figsize=(8,4),dpi=100);\n",
        "sns.histplot(df['PACKET_SIZE'],color=base_color);\n",
        "plt.title('Transactions distribution per products size');"
      ],
      "metadata": {
        "colab": {
          "base_uri": "https://localhost:8080/",
          "height": 404
        },
        "id": "5aRmhlQqGSYq",
        "outputId": "497e53f4-0e88-4d04-92aa-683481079c40"
      },
      "execution_count": 50,
      "outputs": [
        {
          "output_type": "display_data",
          "data": {
            "text/plain": [
              "<Figure size 800x400 with 1 Axes>"
            ],
            "image/png": "[encoded data removed]"
          },
          "metadata": {
            "needs_background": "light"
          }
        }
      ]
    },
    {
      "cell_type": "code",
      "source": [
        "df['PACKET_SIZE'].mode()"
      ],
      "metadata": {
        "colab": {
          "base_uri": "https://localhost:8080/"
        },
        "id": "rjFIxSAPGYfo",
        "outputId": "cd8d9473-5de3-4645-c34d-ce94e5df9a6a"
      },
      "execution_count": 51,
      "outputs": [
        {
          "output_type": "execute_result",
          "data": {
            "text/plain": [
              "0    175\n",
              "dtype: int64"
            ]
          },
          "metadata": {},
          "execution_count": 51
        }
      ]
    },
    {
      "cell_type": "code",
      "source": [
        "#Transactions distribution per years\n",
        "plt.figure(figsize=(8,4),dpi=100);\n",
        "counts = df['Transaction_year'].value_counts(normalize = True);\n",
        "sns.barplot(x = counts.values, y = counts.index,color=base_color);\n",
        "print(counts * 100);\n",
        "plt.xlabel('Transactions year');\n",
        "plt.title('Transactions distribution per years - Percent');\n",
        "plt.show();"
      ],
      "metadata": {
        "colab": {
          "base_uri": "https://localhost:8080/",
          "height": 456
        },
        "id": "0wdPfh69Gb65",
        "outputId": "da6d1c8e-0b88-4eec-e511-8fed96a181b6"
      },
      "execution_count": 52,
      "outputs": [
        {
          "output_type": "stream",
          "name": "stdout",
          "text": [
            "2018    50.470924\n",
            "2019    49.529076\n",
            "Name: Transaction_year, dtype: float64\n"
          ]
        },
        {
          "output_type": "display_data",
          "data": {
            "text/plain": [
              "<Figure size 800x400 with 1 Axes>"
            ],
            "image/png": "[encoded data removed]"
          },
          "metadata": {
            "needs_background": "light"
          }
        }
      ]
    },
    {
      "cell_type": "code",
      "source": [
        "#Transactions distribution per months\n",
        "plt.figure(figsize=(11,4),dpi=100);\n",
        "\n",
        "month = ['January', 'February', 'March', 'April', 'May', 'June', 'July','August','September','October','November','December']\n",
        "month_categ = pd.api.types.CategoricalDtype(ordered=True, categories=month)\n",
        "df['Transaction_month'] = df['Transaction_month'].astype(month_categ)\n",
        "counts = df['Transaction_month'].value_counts(normalize = True);\n",
        "\n",
        "sns.barplot(x =counts.values, y = counts.index,color=base_color);\n",
        "print(counts * 100);\n",
        "plt.xlabel('Months');\n",
        "plt.title('Transactions distribution per month - Percent');\n",
        "plt.show();"
      ],
      "metadata": {
        "colab": {
          "base_uri": "https://localhost:8080/",
          "height": 624
        },
        "id": "4GbsA6n3Gd-h",
        "outputId": "bbebc0e3-d45b-4215-d6e6-4c92cdda7f5d"
      },
      "execution_count": 53,
      "outputs": [
        {
          "output_type": "stream",
          "name": "stdout",
          "text": [
            "March        8.644459\n",
            "July         8.598070\n",
            "December     8.588688\n",
            "October      8.449001\n",
            "January      8.383327\n",
            "November     8.324429\n",
            "September    8.291071\n",
            "June         8.286380\n",
            "April        8.278562\n",
            "May          8.221748\n",
            "August       8.219664\n",
            "February     7.714600\n",
            "Name: Transaction_month, dtype: float64\n"
          ]
        },
        {
          "output_type": "display_data",
          "data": {
            "text/plain": [
              "<Figure size 1100x400 with 1 Axes>"
            ],
            "image/png": "[encoded data removed]"
          },
          "metadata": {
            "needs_background": "light"
          }
        }
      ]
    },
    {
      "cell_type": "code",
      "source": [
        "#Transactions distribution per week day\n",
        "plt.figure(figsize=(8,4),dpi=100);\n",
        "\n",
        "weekday = ['Monday', 'Tuesday', 'Wednesday', 'Thursday', 'Friday', 'Saturday', 'Sunday']\n",
        "weekday_categ = pd.api.types.CategoricalDtype(ordered=True, categories=weekday)\n",
        "df['Transaction_week_day'] = df['Transaction_week_day'].astype(weekday_categ)\n",
        "counts = df['Transaction_week_day'].value_counts(normalize = True);\n",
        "\n",
        "sns.barplot(x = counts.values , y = counts.index,color=base_color);\n",
        "print(counts * 100);\n",
        "plt.xlabel('Week day');\n",
        "plt.title('Transactions distribution per week day - Percent');\n",
        "plt.show();"
      ],
      "metadata": {
        "colab": {
          "base_uri": "https://localhost:8080/",
          "height": 543
        },
        "id": "0dwFxBgBGjsA",
        "outputId": "2b1bc245-b3e4-4639-cc79-eead5dff6dea"
      },
      "execution_count": 54,
      "outputs": [
        {
          "output_type": "stream",
          "name": "stdout",
          "text": [
            "Sunday       14.704181\n",
            "Friday       14.444612\n",
            "Wednesday    14.266876\n",
            "Saturday     14.250718\n",
            "Monday       14.232475\n",
            "Thursday     14.066727\n",
            "Tuesday      14.034411\n",
            "Name: Transaction_week_day, dtype: float64\n"
          ]
        },
        {
          "output_type": "display_data",
          "data": {
            "text/plain": [
              "<Figure size 800x400 with 1 Axes>"
            ],
            "image/png": "[encoded data removed]"
          },
          "metadata": {
            "needs_background": "light"
          }
        }
      ]
    },
    {
      "cell_type": "code",
      "source": [
        "#Transactions distribution per month days\n",
        "plt.figure(figsize=(10,4),dpi=100);\n",
        "\n",
        "monthday = ['1', '2', '3', '4', '5', '6', '7','8','9','10','11','12','13','14','15','16','17','18','19','20','21','22','23','24','25','26','27','28','29','30','31']\n",
        "month_day = pd.api.types.CategoricalDtype(ordered=True, categories=monthday)\n",
        "df['Transaction_month_day'] = df['Transaction_month_day'].astype(month_day)\n",
        "\n",
        "counts = df['Transaction_month_day'].value_counts(normalize = True);\n",
        "sns.barplot(x = counts.index, y = counts.values,color=base_color);\n",
        "plt.xlabel('Month day');\n",
        "plt.title('Transaction per month day - Percent');\n",
        "print(counts.head() * 100)\n",
        "plt.show();"
      ],
      "metadata": {
        "colab": {
          "base_uri": "https://localhost:8080/",
          "height": 508
        },
        "id": "BDn-WGl1GrPe",
        "outputId": "c66fdab2-6649-466a-eb7a-e9d4738932e2"
      },
      "execution_count": 55,
      "outputs": [
        {
          "output_type": "stream",
          "name": "stdout",
          "text": [
            "23    3.375431\n",
            "9     3.363964\n",
            "20    3.355624\n",
            "4     3.350412\n",
            "22    3.350412\n",
            "Name: Transaction_month_day, dtype: float64\n"
          ]
        },
        {
          "output_type": "display_data",
          "data": {
            "text/plain": [
              "<Figure size 1000x400 with 1 Axes>"
            ],
            "image/png": "[encoded data removed]"
          },
          "metadata": {
            "needs_background": "light"
          }
        }
      ]
    },
    {
      "cell_type": "code",
      "source": [
        "plt.figure(figsize=(8,4),dpi=100);\n",
        "counts = df['LIFESTAGE'].value_counts(normalize = True)\n",
        "#sns.barplot(x = counts.index, y = counts.values,color=base_color);\n",
        "sns.barplot(x = counts.index, y = counts.values,color=base_color)\n",
        "\n",
        "plt.xlabel('LIFESTAGE');\n",
        "plt.ylabel('Count');\n",
        "plt.xticks(rotation=35);\n",
        "print(counts * 100)\n",
        "\n",
        "plt.title(\"Transactions distribution by LIFESTAGE - Percent\");\n",
        "plt.show();"
      ],
      "metadata": {
        "colab": {
          "base_uri": "https://localhost:8080/",
          "height": 648
        },
        "id": "Tk_Xp5CVGtGV",
        "outputId": "4e9058fe-c40b-4d16-e2ed-0bf31c4a49ab"
      },
      "execution_count": 56,
      "outputs": [
        {
          "output_type": "stream",
          "name": "stdout",
          "text": [
            "OLDER SINGLES/COUPLES     20.539256\n",
            "RETIREES                  18.670155\n",
            "OLDER FAMILIES            18.528904\n",
            "YOUNG FAMILIES            16.624361\n",
            "YOUNG SINGLES/COUPLES     13.600234\n",
            "MIDAGE SINGLES/COUPLES     9.415346\n",
            "NEW FAMILIES               2.621744\n",
            "Name: LIFESTAGE, dtype: float64\n"
          ]
        },
        {
          "output_type": "display_data",
          "data": {
            "text/plain": [
              "<Figure size 800x400 with 1 Axes>"
            ],
            "image/png": "[encoded data removed]"
          },
          "metadata": {
            "needs_background": "light"
          }
        }
      ]
    },
    {
      "cell_type": "code",
      "source": [
        "#Transactions distribution by LIFESTAGE\n",
        "plt.figure(figsize=(8,4),dpi=100);\n",
        "counts = df['PREMIUM_CUSTOMER'].value_counts(normalize = True)\n",
        "\n",
        "counts.plot.pie(autopct='%1.1f%%', explode=(0, 0, 0.1),shadow=True)\n",
        "\n",
        "plt.xlabel('LIFESTAGE');\n",
        "plt.ylabel('Count');\n",
        "plt.xticks(rotation=35);\n",
        "\n",
        "\n",
        "print(counts * 100)\n",
        "\n",
        "plt.title(\"Transactions distribution by PREMIUM_CUSTOMER - Percent\");\n",
        "plt.show();"
      ],
      "metadata": {
        "colab": {
          "base_uri": "https://localhost:8080/",
          "height": 449
        },
        "id": "D2wvH9XUG0zt",
        "outputId": "ad067e06-a453-47d7-f6db-94d5b117a9fd"
      },
      "execution_count": 57,
      "outputs": [
        {
          "output_type": "stream",
          "name": "stdout",
          "text": [
            "Mainstream    38.279552\n",
            "Budget        35.341947\n",
            "Premium       26.378501\n",
            "Name: PREMIUM_CUSTOMER, dtype: float64\n"
          ]
        },
        {
          "output_type": "display_data",
          "data": {
            "text/plain": [
              "<Figure size 800x400 with 1 Axes>"
            ],
            "image/png": "[encoded data removed]"
          },
          "metadata": {}
        }
      ]
    },
    {
      "cell_type": "markdown",
      "source": [
        "The distribution(s) of variable(s) of interest:\n",
        "\n",
        " \n",
        "\n",
        "1.   Total sales range from 2 to 12 amount of sales per transaction with mean of almost 7$ total sales per transaction\n",
        "2.   Product quantity in different transactions varies between 1 and 2 quantities\n",
        "3.   Most of the purchased products are with pack size of 175\n",
        "4.   Transactions are slightly more in 2018 than 2019\n",
        "5.   Transactions amount are almost the same over the months but it is the most in March and the least in February\n",
        "6.   Transactions are distributed over the week with almost the same amount but it increases slightly on sunday\n",
        "7.   Transactions are distributed over the days of the month with almost the same amount but it decreases by the end of the month in 29,30,31\n",
        "8.   The chips are more popular among the old people than young people since older singles,retirees,older families buy more chips than younger segment\n",
        "9.   Mainstream segment buy chips more frequently than other segments\n",
        "\n",
        "\n",
        "\n",
        "\n",
        "\n",
        "\n",
        "\n",
        "\n"
      ],
      "metadata": {
        "id": "l4gRJxkHHCbv"
      }
    },
    {
      "cell_type": "markdown",
      "source": [
        "Bivariate Analysis"
      ],
      "metadata": {
        "id": "UAB0j2pLH_WR"
      }
    },
    {
      "cell_type": "code",
      "source": [
        "df.head(2)"
      ],
      "metadata": {
        "colab": {
          "base_uri": "https://localhost:8080/",
          "height": 280
        },
        "id": "1bnjA_40IA9w",
        "outputId": "efae8fab-04cc-4619-b01d-8c9ea0c8b59c"
      },
      "execution_count": 58,
      "outputs": [
        {
          "output_type": "execute_result",
          "data": {
            "text/plain": [
              "        DATE STORE_NBR LYLTY_CARD_NBR TXN_ID PROD_NBR                               PROD_NAME  PROD_QTY  TOT_SALES  PACKET_SIZE Transaction_year Transaction_month Transaction_month_day Transaction_week_day               LIFESTAGE PREMIUM_CUSTOMER\n",
              "0 2018-10-17         1           1000      1        5  Natural Chip        Compny SeaSalt175g         2        6.0          175             2018           October                    17            Wednesday   YOUNG SINGLES/COUPLES          Premium\n",
              "1 2019-05-20         1           1343    383       61  Smiths Crinkle Cut  Chips Chicken 170g         2        2.9          170             2019               May                    20               Monday  MIDAGE SINGLES/COUPLES           Budget"
            ],
            "text/html": [
              "\n",
              "  <div id=\"df-35ea12c7-bbe9-443b-b2fa-ca6d3108c04c\">\n",
              "    <div class=\"colab-df-container\">\n",
              "      <div>\n",
              "<style scoped>\n",
              "    .dataframe tbody tr th:only-of-type {\n",
              "        vertical-align: middle;\n",
              "    }\n",
              "\n",
              "    .dataframe tbody tr th {\n",
              "        vertical-align: top;\n",
              "    }\n",
              "\n",
              "    .dataframe thead th {\n",
              "        text-align: right;\n",
              "    }\n",
              "</style>\n",
              "<table border=\"1\" class=\"dataframe\">\n",
              "  <thead>\n",
              "    <tr style=\"text-align: right;\">\n",
              "      <th></th>\n",
              "      <th>DATE</th>\n",
              "      <th>STORE_NBR</th>\n",
              "      <th>LYLTY_CARD_NBR</th>\n",
              "      <th>TXN_ID</th>\n",
              "      <th>PROD_NBR</th>\n",
              "      <th>PROD_NAME</th>\n",
              "      <th>PROD_QTY</th>\n",
              "      <th>TOT_SALES</th>\n",
              "      <th>PACKET_SIZE</th>\n",
              "      <th>Transaction_year</th>\n",
              "      <th>Transaction_month</th>\n",
              "      <th>Transaction_month_day</th>\n",
              "      <th>Transaction_week_day</th>\n",
              "      <th>LIFESTAGE</th>\n",
              "      <th>PREMIUM_CUSTOMER</th>\n",
              "    </tr>\n",
              "  </thead>\n",
              "  <tbody>\n",
              "    <tr>\n",
              "      <th>0</th>\n",
              "      <td>2018-10-17</td>\n",
              "      <td>1</td>\n",
              "      <td>1000</td>\n",
              "      <td>1</td>\n",
              "      <td>5</td>\n",
              "      <td>Natural Chip        Compny SeaSalt175g</td>\n",
              "      <td>2</td>\n",
              "      <td>6.0</td>\n",
              "      <td>175</td>\n",
              "      <td>2018</td>\n",
              "      <td>October</td>\n",
              "      <td>17</td>\n",
              "      <td>Wednesday</td>\n",
              "      <td>YOUNG SINGLES/COUPLES</td>\n",
              "      <td>Premium</td>\n",
              "    </tr>\n",
              "    <tr>\n",
              "      <th>1</th>\n",
              "      <td>2019-05-20</td>\n",
              "      <td>1</td>\n",
              "      <td>1343</td>\n",
              "      <td>383</td>\n",
              "      <td>61</td>\n",
              "      <td>Smiths Crinkle Cut  Chips Chicken 170g</td>\n",
              "      <td>2</td>\n",
              "      <td>2.9</td>\n",
              "      <td>170</td>\n",
              "      <td>2019</td>\n",
              "      <td>May</td>\n",
              "      <td>20</td>\n",
              "      <td>Monday</td>\n",
              "      <td>MIDAGE SINGLES/COUPLES</td>\n",
              "      <td>Budget</td>\n",
              "    </tr>\n",
              "  </tbody>\n",
              "</table>\n",
              "</div>\n",
              "      <button class=\"colab-df-convert\" onclick=\"convertToInteractive('df-35ea12c7-bbe9-443b-b2fa-ca6d3108c04c')\"\n",
              "              title=\"Convert this dataframe to an interactive table.\"\n",
              "              style=\"display:none;\">\n",
              "        \n",
              "  <svg xmlns=\"http://www.w3.org/2000/svg\" height=\"24px\"viewBox=\"0 0 24 24\"\n",
              "       width=\"24px\">\n",
              "    <path d=\"M0 0h24v24H0V0z\" fill=\"none\"/>\n",
              "    <path d=\"M18.56 5.44l.94 2.06.94-2.06 2.06-.94-2.06-.94-.94-2.06-.94 2.06-2.06.94zm-11 1L8.5 8.5l.94-2.06 2.06-.94-2.06-.94L8.5 2.5l-.94 2.06-2.06.94zm10 10l.94 2.06.94-2.06 2.06-.94-2.06-.94-.94-2.06-.94 2.06-2.06.94z\"/><path d=\"M17.41 7.96l-1.37-1.37c-.4-.4-.92-.59-1.43-.59-.52 0-1.04.2-1.43.59L10.3 9.45l-7.72 7.72c-.78.78-.78 2.05 0 2.83L4 21.41c.39.39.9.59 1.41.59.51 0 1.02-.2 1.41-.59l7.78-7.78 2.81-2.81c.8-.78.8-2.07 0-2.86zM5.41 20L4 18.59l7.72-7.72 1.47 1.35L5.41 20z\"/>\n",
              "  </svg>\n",
              "      </button>\n",
              "      \n",
              "  <style>\n",
              "    .colab-df-container {\n",
              "      display:flex;\n",
              "      flex-wrap:wrap;\n",
              "      gap: 12px;\n",
              "    }\n",
              "\n",
              "    .colab-df-convert {\n",
              "      background-color: #E8F0FE;\n",
              "      border: none;\n",
              "      border-radius: 50%;\n",
              "      cursor: pointer;\n",
              "      display: none;\n",
              "      fill: #1967D2;\n",
              "      height: 32px;\n",
              "      padding: 0 0 0 0;\n",
              "      width: 32px;\n",
              "    }\n",
              "\n",
              "    .colab-df-convert:hover {\n",
              "      background-color: #E2EBFA;\n",
              "      box-shadow: 0px 1px 2px rgba(60, 64, 67, 0.3), 0px 1px 3px 1px rgba(60, 64, 67, 0.15);\n",
              "      fill: #174EA6;\n",
              "    }\n",
              "\n",
              "    [theme=dark] .colab-df-convert {\n",
              "      background-color: #3B4455;\n",
              "      fill: #D2E3FC;\n",
              "    }\n",
              "\n",
              "    [theme=dark] .colab-df-convert:hover {\n",
              "      background-color: #434B5C;\n",
              "      box-shadow: 0px 1px 3px 1px rgba(0, 0, 0, 0.15);\n",
              "      filter: drop-shadow(0px 1px 2px rgba(0, 0, 0, 0.3));\n",
              "      fill: #FFFFFF;\n",
              "    }\n",
              "  </style>\n",
              "\n",
              "      <script>\n",
              "        const buttonEl =\n",
              "          document.querySelector('#df-35ea12c7-bbe9-443b-b2fa-ca6d3108c04c button.colab-df-convert');\n",
              "        buttonEl.style.display =\n",
              "          google.colab.kernel.accessAllowed ? 'block' : 'none';\n",
              "\n",
              "        async function convertToInteractive(key) {\n",
              "          const element = document.querySelector('#df-35ea12c7-bbe9-443b-b2fa-ca6d3108c04c');\n",
              "          const dataTable =\n",
              "            await google.colab.kernel.invokeFunction('convertToInteractive',\n",
              "                                                     [key], {});\n",
              "          if (!dataTable) return;\n",
              "\n",
              "          const docLinkHtml = 'Like what you see? Visit the ' +\n",
              "            '<a target=\"_blank\" href=https://colab.research.google.com/notebooks/data_table.ipynb>data table notebook</a>'\n",
              "            + ' to learn more about interactive tables.';\n",
              "          element.innerHTML = '';\n",
              "          dataTable['output_type'] = 'display_data';\n",
              "          await google.colab.output.renderOutput(dataTable, element);\n",
              "          const docLink = document.createElement('div');\n",
              "          docLink.innerHTML = docLinkHtml;\n",
              "          element.appendChild(docLink);\n",
              "        }\n",
              "      </script>\n",
              "    </div>\n",
              "  </div>\n",
              "  "
            ]
          },
          "metadata": {},
          "execution_count": 58
        }
      ]
    },
    {
      "cell_type": "code",
      "source": [
        "#Transactions sales amount by packet size\n",
        "plt.figure(figsize=(8,4),dpi=100);\n",
        "sns.regplot(data=df,x='PACKET_SIZE',y='TOT_SALES',color=base_color);\n",
        "plt.xlabel('Packet size');\n",
        "plt.ylabel('Transactions sales');\n",
        "plt.title('Transactions sales by packet size');"
      ],
      "metadata": {
        "colab": {
          "base_uri": "https://localhost:8080/",
          "height": 404
        },
        "id": "BQWZAY-xIF55",
        "outputId": "fc43fcb8-15e6-419c-b927-3efdc912de35"
      },
      "execution_count": 59,
      "outputs": [
        {
          "output_type": "display_data",
          "data": {
            "text/plain": [
              "<Figure size 800x400 with 1 Axes>"
            ],
            "image/png": "[encoded data removed]"
          },
          "metadata": {
            "needs_background": "light"
          }
        }
      ]
    },
    {
      "cell_type": "code",
      "source": [
        "#pearson correlation\n",
        "df['PACKET_SIZE'].corr(df['TOT_SALES'])"
      ],
      "metadata": {
        "colab": {
          "base_uri": "https://localhost:8080/"
        },
        "id": "FXqc6TZjJCC7",
        "outputId": "588577ea-2e2b-4e69-c3f9-eecb138c08d4"
      },
      "execution_count": 60,
      "outputs": [
        {
          "output_type": "execute_result",
          "data": {
            "text/plain": [
              "-0.06388685193154418"
            ]
          },
          "metadata": {},
          "execution_count": 60
        }
      ]
    },
    {
      "cell_type": "code",
      "source": [
        "#Products sales by Life stage\n",
        "plt.figure(figsize=(10,4),dpi=100);\n",
        "counts = df.groupby('LIFESTAGE')['TOT_SALES'].sum().sort_values(ascending=False)\n",
        "sns.barplot(data=df,x=counts.index,y=counts.values,color=base_color);\n",
        "plt.xlabel('Life stage');\n",
        "plt.ylabel('Product sales');\n",
        "plt.xticks(rotation=35)\n",
        "plt.title('Products sales by Life stage');\n",
        "print(counts)"
      ],
      "metadata": {
        "colab": {
          "base_uri": "https://localhost:8080/",
          "height": 665
        },
        "id": "jtuLu3-3JE_n",
        "outputId": "65670b51-0a41-4b73-cc4d-53508fcff4ed"
      },
      "execution_count": 61,
      "outputs": [
        {
          "output_type": "stream",
          "name": "stdout",
          "text": [
            "LIFESTAGE\n",
            "OLDER SINGLES/COUPLES     276153.3\n",
            "RETIREES                  250265.5\n",
            "OLDER FAMILIES            243700.8\n",
            "YOUNG FAMILIES            219101.1\n",
            "YOUNG SINGLES/COUPLES     176643.5\n",
            "MIDAGE SINGLES/COUPLES    125722.4\n",
            "NEW FAMILIES               34833.2\n",
            "Name: TOT_SALES, dtype: float64\n"
          ]
        },
        {
          "output_type": "display_data",
          "data": {
            "text/plain": [
              "<Figure size 1000x400 with 1 Axes>"
            ],
            "image/png": "[encoded data removed]"
          },
          "metadata": {
            "needs_background": "light"
          }
        }
      ]
    },
    {
      "cell_type": "code",
      "source": [
        "#Product Sales by premium customers\n",
        "plt.figure(figsize=(10,4),dpi=100);\n",
        "counts=df.groupby('PREMIUM_CUSTOMER')['TOT_SALES'].sum().sort_values(ascending=False)\n",
        "\n",
        "counts.plot.pie(autopct='%1.1f%%', explode=(0, 0, 0.1),shadow=True)\n",
        "\n",
        "plt.xlabel('Premium customers');\n",
        "plt.ylabel('Product sales');\n",
        "\n",
        "print(counts)\n",
        "plt.show()"
      ],
      "metadata": {
        "colab": {
          "base_uri": "https://localhost:8080/",
          "height": 445
        },
        "id": "GBNCKs4JJIa4",
        "outputId": "891b31d2-bf11-49f7-ec9a-97efcf057159"
      },
      "execution_count": 62,
      "outputs": [
        {
          "output_type": "stream",
          "name": "stdout",
          "text": [
            "PREMIUM_CUSTOMER\n",
            "Mainstream    512050.9\n",
            "Budget        466202.2\n",
            "Premium       348166.7\n",
            "Name: TOT_SALES, dtype: float64\n"
          ]
        },
        {
          "output_type": "display_data",
          "data": {
            "text/plain": [
              "<Figure size 1000x400 with 1 Axes>"
            ],
            "image/png": "[encoded data removed]"
          },
          "metadata": {}
        }
      ]
    },
    {
      "cell_type": "code",
      "source": [
        "#Product Sales by Transaction_month\n",
        "plt.figure(figsize=(10,4),dpi=100);\n",
        "counts=df.groupby('Transaction_month')['TOT_SALES'].sum().sort_values(ascending=False)\n",
        "sns.barplot(data=df,x=counts.index,y=counts.values,color=base_color);\n",
        "plt.xlabel('Transaction_month');\n",
        "plt.ylabel('Product sales');\n",
        "plt.xticks(rotation=35)\n",
        "plt.title('Products sales by Transaction_month');\n",
        "print(counts)"
      ],
      "metadata": {
        "colab": {
          "base_uri": "https://localhost:8080/",
          "height": 689
        },
        "id": "9RfCrWSlJOaF",
        "outputId": "64ce9ec3-6f93-4913-b100-ab479186a1e3"
      },
      "execution_count": 63,
      "outputs": [
        {
          "output_type": "stream",
          "name": "stdout",
          "text": [
            "Transaction_month\n",
            "March        116106.7\n",
            "December     115518.1\n",
            "July         115380.8\n",
            "October      113560.4\n",
            "January      112333.1\n",
            "November     111696.8\n",
            "September    111573.6\n",
            "June         111375.9\n",
            "April        111017.2\n",
            "February     103798.4\n",
            "August       102459.3\n",
            "May          101599.5\n",
            "Name: TOT_SALES, dtype: float64\n"
          ]
        },
        {
          "output_type": "display_data",
          "data": {
            "text/plain": [
              "<Figure size 1000x400 with 1 Axes>"
            ],
            "image/png": "[encoded data removed]"
          },
          "metadata": {
            "needs_background": "light"
          }
        }
      ]
    },
    {
      "cell_type": "code",
      "source": [
        "#Product Sales by Transaction_week_day\n",
        "plt.figure(figsize=(10,4),dpi=100);\n",
        "weekday = ['Monday', 'Tuesday', 'Wednesday', 'Thursday', 'Friday', 'Saturday', 'Sunday']\n",
        "weekday_categ = pd.api.types.CategoricalDtype(ordered=True, categories=weekday)\n",
        "df['Transaction_week_day'] = df['Transaction_week_day'].astype(weekday_categ)\n",
        "counts=df.groupby('Transaction_week_day')['TOT_SALES'].sum().sort_values(ascending=False)\n",
        "counts.plot.line(figsize=(10,5),markersize=15,marker='o')\n",
        "\n",
        "\n",
        "plt.xlabel('Transaction_week_day');\n",
        "plt.ylabel('Product sales');\n",
        "plt.xticks(rotation=35)\n",
        "plt.title('Products sales by Transaction_week_day');\n",
        "print(counts)"
      ],
      "metadata": {
        "colab": {
          "base_uri": "https://localhost:8080/",
          "height": 679
        },
        "id": "NiPliHIRJWAk",
        "outputId": "5b2f8751-403d-480e-f8b4-7f7d7ddbe464"
      },
      "execution_count": 65,
      "outputs": [
        {
          "output_type": "stream",
          "name": "stdout",
          "text": [
            "Transaction_week_day\n",
            "Sunday       195149.2\n",
            "Friday       191557.0\n",
            "Wednesday    189461.6\n",
            "Monday       189174.2\n",
            "Saturday     188576.8\n",
            "Thursday     186584.4\n",
            "Tuesday      185916.6\n",
            "Name: TOT_SALES, dtype: float64\n"
          ]
        },
        {
          "output_type": "display_data",
          "data": {
            "text/plain": [
              "<Figure size 1000x500 with 1 Axes>"
            ],
            "image/png": "[encoded data removed]"
          },
          "metadata": {
            "needs_background": "light"
          }
        }
      ]
    },
    {
      "cell_type": "markdown",
      "source": [
        "Some of the relationships observed in this part of the investigation:\n",
        "\n",
        "\n",
        "\n",
        "1.   Most of the sales are coming from older singles/couples,retirees,older families\n",
        "2.   Most of the sales are coming from Mainstream segment\n",
        "3.   Most of the sales are coming in March\n",
        "4.   Sales amount tend to be higher on sunday beacause people go\n",
        "5.   shopping more often in their vacation than other days\n",
        "\n"
      ],
      "metadata": {
        "id": "ixxfqXvgJiwW"
      }
    },
    {
      "cell_type": "code",
      "source": [],
      "metadata": {
        "id": "82BCgoz6J48C"
      },
      "execution_count": null,
      "outputs": []
    },
    {
      "cell_type": "markdown",
      "source": [
        "Multivariate Analysis"
      ],
      "metadata": {
        "id": "mse4cTTeJ_0I"
      }
    },
    {
      "cell_type": "code",
      "source": [
        "#Product Sales by Packet Size by product quantity\n",
        "plt.figure(figsize=(10,4),dpi=100);\n",
        "sns.barplot(data=df,x='PACKET_SIZE',y='TOT_SALES',hue='PROD_QTY',color=base_color);\n",
        "plt.xlabel('Packet size');\n",
        "plt.ylabel('Total sales');\n",
        "plt.xticks(rotation=35);\n",
        "plt.legend(bbox_to_anchor=(1.05, 1), loc='upper left');\n",
        "plt.title('Product Sales by Packet Size by product quantity');"
      ],
      "metadata": {
        "colab": {
          "base_uri": "https://localhost:8080/",
          "height": 417
        },
        "id": "FiWIPAJYKBdn",
        "outputId": "4fa05efa-6ab1-451a-b04c-c9d8bda6457a"
      },
      "execution_count": 66,
      "outputs": [
        {
          "output_type": "display_data",
          "data": {
            "text/plain": [
              "<Figure size 1000x400 with 1 Axes>"
            ],
            "image/png": "[encoded data removed]"
          },
          "metadata": {
            "needs_background": "light"
          }
        }
      ]
    },
    {
      "cell_type": "code",
      "source": [
        "# Best selling products among Premium customer\n",
        "Most_selling_premium=df[['PREMIUM_CUSTOMER','PROD_NAME','TOT_SALES']].groupby(['PREMIUM_CUSTOMER','PROD_NAME'],as_index=False).agg({'TOT_SALES':'sum'}).sort_values(by='TOT_SALES',ascending=False)\n",
        "#since the most selling product among all premium customer segments is Kettle Mozzarella   Basil & Pesto, i will crete a dataframe for it to visualize it\n",
        "Most_selling_premium1=Most_selling_premium[Most_selling_premium['PROD_NAME']=='Kettle Mozzarella   Basil & Pesto 175g']\n",
        "\n",
        "plt.figure(figsize=(10,4),dpi=100);\n",
        "sns.barplot(data=Most_selling_premium1,x='PREMIUM_CUSTOMER',y='TOT_SALES',hue='PROD_NAME');\n",
        "plt.xlabel('Premium customer');\n",
        "plt.ylabel('Total sales');\n",
        "plt.legend(bbox_to_anchor=(1.05, 1), loc='upper left');\n",
        "plt.title('Best selling product among Premium customer');\n",
        "print(Most_selling_premium1)"
      ],
      "metadata": {
        "colab": {
          "base_uri": "https://localhost:8080/",
          "height": 384
        },
        "id": "fOefWzFhKF5u",
        "outputId": "02985bd7-6d6d-419b-827f-6881d6b1c2e6"
      },
      "execution_count": 67,
      "outputs": [
        {
          "output_type": "stream",
          "name": "stdout",
          "text": [
            "    PREMIUM_CUSTOMER                               PROD_NAME  TOT_SALES\n",
            "106       Mainstream  Kettle Mozzarella   Basil & Pesto 175g    13105.8\n",
            "19            Budget  Kettle Mozzarella   Basil & Pesto 175g    11993.4\n",
            "193          Premium  Kettle Mozzarella   Basil & Pesto 175g     8834.4\n"
          ]
        },
        {
          "output_type": "display_data",
          "data": {
            "text/plain": [
              "<Figure size 1000x400 with 1 Axes>"
            ],
            "image/png": "[encoded data removed]"
          },
          "metadata": {
            "needs_background": "light"
          }
        }
      ]
    },
    {
      "cell_type": "code",
      "source": [
        "#Product Sales by packet size by Life stage\n",
        "plt.figure(figsize=(10,4),dpi=100);\n",
        "sns.barplot(data=df,x='LIFESTAGE',y='TOT_SALES',hue='PREMIUM_CUSTOMER',color=base_color);\n",
        "plt.xlabel('Life stage');\n",
        "plt.ylabel('Total sales');\n",
        "plt.xticks(rotation=35);\n",
        "plt.legend(bbox_to_anchor=(1.05, 1), loc='upper left');\n",
        "plt.title('Product Sales by Packet Size by Life stage');"
      ],
      "metadata": {
        "colab": {
          "base_uri": "https://localhost:8080/",
          "height": 476
        },
        "id": "FnQrPHTLKJ1_",
        "outputId": "eb51e907-846e-40e9-9601-3054d4b1d733"
      },
      "execution_count": 68,
      "outputs": [
        {
          "output_type": "display_data",
          "data": {
            "text/plain": [
              "<Figure size 1000x400 with 1 Axes>"
            ],
            "image/png": "[encoded data removed]"
          },
          "metadata": {
            "needs_background": "light"
          }
        }
      ]
    },
    {
      "cell_type": "code",
      "source": [
        "#Product Sales by Premium customer by Life stage\n",
        "plt.figure(figsize=(8,4),dpi=100);\n",
        "df.groupby(['LIFESTAGE','PREMIUM_CUSTOMER'])['TOT_SALES'].sum().sort_values(ascending=False).plot.bar();"
      ],
      "metadata": {
        "colab": {
          "base_uri": "https://localhost:8080/",
          "height": 658
        },
        "id": "QYoBkpVlKQVw",
        "outputId": "40cdb90c-5656-46b2-9d62-345f7d79fe5a"
      },
      "execution_count": 69,
      "outputs": [
        {
          "output_type": "display_data",
          "data": {
            "text/plain": [
              "<Figure size 800x400 with 1 Axes>"
            ],
            "image/png": "[encoded data removed]"
          },
          "metadata": {
            "needs_background": "light"
          }
        }
      ]
    },
    {
      "cell_type": "code",
      "source": [
        "#What is the most admired product for these segments?\n",
        "df1=df[['LIFESTAGE','PREMIUM_CUSTOMER','PROD_NAME','TOT_SALES']]\n",
        "df1=df1[(df1['LIFESTAGE']=='OLDER FAMILIES') | (df1['LIFESTAGE']=='RETIREES') | (df1['LIFESTAGE']=='YOUNG SINGLES/COUPLES')]\n",
        "df1=df1[(df1['PREMIUM_CUSTOMER']=='Budget') | (df1['PREMIUM_CUSTOMER']=='Mainstream')]\n",
        "df1.head(5)"
      ],
      "metadata": {
        "colab": {
          "base_uri": "https://localhost:8080/",
          "height": 206
        },
        "id": "Be7wo6NdKTNO",
        "outputId": "b4470a39-9085-4178-c509-f1b16710f118"
      },
      "execution_count": 70,
      "outputs": [
        {
          "output_type": "execute_result",
          "data": {
            "text/plain": [
              "            LIFESTAGE PREMIUM_CUSTOMER                                PROD_NAME  TOT_SALES\n",
              "23095  OLDER FAMILIES           Budget  Kettle Sweet Chilli And Sour Cream 175g       10.8\n",
              "23096  OLDER FAMILIES           Budget          Tostitos Lightly    Salted 175g        8.8\n",
              "23097  OLDER FAMILIES           Budget         Kettle Honey Soy    Chicken 175g       10.8\n",
              "23098  OLDER FAMILIES           Budget       Kettle Sensations   BBQ&Maple 150g        9.2\n",
              "23099  OLDER FAMILIES           Budget   Tyrrells Crisps     Ched & Chives 165g        8.4"
            ],
            "text/html": [
              "\n",
              "  <div id=\"df-67d71bbe-4e35-49db-be91-1a2f3778112b\">\n",
              "    <div class=\"colab-df-container\">\n",
              "      <div>\n",
              "<style scoped>\n",
              "    .dataframe tbody tr th:only-of-type {\n",
              "        vertical-align: middle;\n",
              "    }\n",
              "\n",
              "    .dataframe tbody tr th {\n",
              "        vertical-align: top;\n",
              "    }\n",
              "\n",
              "    .dataframe thead th {\n",
              "        text-align: right;\n",
              "    }\n",
              "</style>\n",
              "<table border=\"1\" class=\"dataframe\">\n",
              "  <thead>\n",
              "    <tr style=\"text-align: right;\">\n",
              "      <th></th>\n",
              "      <th>LIFESTAGE</th>\n",
              "      <th>PREMIUM_CUSTOMER</th>\n",
              "      <th>PROD_NAME</th>\n",
              "      <th>TOT_SALES</th>\n",
              "    </tr>\n",
              "  </thead>\n",
              "  <tbody>\n",
              "    <tr>\n",
              "      <th>23095</th>\n",
              "      <td>OLDER FAMILIES</td>\n",
              "      <td>Budget</td>\n",
              "      <td>Kettle Sweet Chilli And Sour Cream 175g</td>\n",
              "      <td>10.8</td>\n",
              "    </tr>\n",
              "    <tr>\n",
              "      <th>23096</th>\n",
              "      <td>OLDER FAMILIES</td>\n",
              "      <td>Budget</td>\n",
              "      <td>Tostitos Lightly    Salted 175g</td>\n",
              "      <td>8.8</td>\n",
              "    </tr>\n",
              "    <tr>\n",
              "      <th>23097</th>\n",
              "      <td>OLDER FAMILIES</td>\n",
              "      <td>Budget</td>\n",
              "      <td>Kettle Honey Soy    Chicken 175g</td>\n",
              "      <td>10.8</td>\n",
              "    </tr>\n",
              "    <tr>\n",
              "      <th>23098</th>\n",
              "      <td>OLDER FAMILIES</td>\n",
              "      <td>Budget</td>\n",
              "      <td>Kettle Sensations   BBQ&amp;Maple 150g</td>\n",
              "      <td>9.2</td>\n",
              "    </tr>\n",
              "    <tr>\n",
              "      <th>23099</th>\n",
              "      <td>OLDER FAMILIES</td>\n",
              "      <td>Budget</td>\n",
              "      <td>Tyrrells Crisps     Ched &amp; Chives 165g</td>\n",
              "      <td>8.4</td>\n",
              "    </tr>\n",
              "  </tbody>\n",
              "</table>\n",
              "</div>\n",
              "      <button class=\"colab-df-convert\" onclick=\"convertToInteractive('df-67d71bbe-4e35-49db-be91-1a2f3778112b')\"\n",
              "              title=\"Convert this dataframe to an interactive table.\"\n",
              "              style=\"display:none;\">\n",
              "        \n",
              "  <svg xmlns=\"http://www.w3.org/2000/svg\" height=\"24px\"viewBox=\"0 0 24 24\"\n",
              "       width=\"24px\">\n",
              "    <path d=\"M0 0h24v24H0V0z\" fill=\"none\"/>\n",
              "    <path d=\"M18.56 5.44l.94 2.06.94-2.06 2.06-.94-2.06-.94-.94-2.06-.94 2.06-2.06.94zm-11 1L8.5 8.5l.94-2.06 2.06-.94-2.06-.94L8.5 2.5l-.94 2.06-2.06.94zm10 10l.94 2.06.94-2.06 2.06-.94-2.06-.94-.94-2.06-.94 2.06-2.06.94z\"/><path d=\"M17.41 7.96l-1.37-1.37c-.4-.4-.92-.59-1.43-.59-.52 0-1.04.2-1.43.59L10.3 9.45l-7.72 7.72c-.78.78-.78 2.05 0 2.83L4 21.41c.39.39.9.59 1.41.59.51 0 1.02-.2 1.41-.59l7.78-7.78 2.81-2.81c.8-.78.8-2.07 0-2.86zM5.41 20L4 18.59l7.72-7.72 1.47 1.35L5.41 20z\"/>\n",
              "  </svg>\n",
              "      </button>\n",
              "      \n",
              "  <style>\n",
              "    .colab-df-container {\n",
              "      display:flex;\n",
              "      flex-wrap:wrap;\n",
              "      gap: 12px;\n",
              "    }\n",
              "\n",
              "    .colab-df-convert {\n",
              "      background-color: #E8F0FE;\n",
              "      border: none;\n",
              "      border-radius: 50%;\n",
              "      cursor: pointer;\n",
              "      display: none;\n",
              "      fill: #1967D2;\n",
              "      height: 32px;\n",
              "      padding: 0 0 0 0;\n",
              "      width: 32px;\n",
              "    }\n",
              "\n",
              "    .colab-df-convert:hover {\n",
              "      background-color: #E2EBFA;\n",
              "      box-shadow: 0px 1px 2px rgba(60, 64, 67, 0.3), 0px 1px 3px 1px rgba(60, 64, 67, 0.15);\n",
              "      fill: #174EA6;\n",
              "    }\n",
              "\n",
              "    [theme=dark] .colab-df-convert {\n",
              "      background-color: #3B4455;\n",
              "      fill: #D2E3FC;\n",
              "    }\n",
              "\n",
              "    [theme=dark] .colab-df-convert:hover {\n",
              "      background-color: #434B5C;\n",
              "      box-shadow: 0px 1px 3px 1px rgba(0, 0, 0, 0.15);\n",
              "      filter: drop-shadow(0px 1px 2px rgba(0, 0, 0, 0.3));\n",
              "      fill: #FFFFFF;\n",
              "    }\n",
              "  </style>\n",
              "\n",
              "      <script>\n",
              "        const buttonEl =\n",
              "          document.querySelector('#df-67d71bbe-4e35-49db-be91-1a2f3778112b button.colab-df-convert');\n",
              "        buttonEl.style.display =\n",
              "          google.colab.kernel.accessAllowed ? 'block' : 'none';\n",
              "\n",
              "        async function convertToInteractive(key) {\n",
              "          const element = document.querySelector('#df-67d71bbe-4e35-49db-be91-1a2f3778112b');\n",
              "          const dataTable =\n",
              "            await google.colab.kernel.invokeFunction('convertToInteractive',\n",
              "                                                     [key], {});\n",
              "          if (!dataTable) return;\n",
              "\n",
              "          const docLinkHtml = 'Like what you see? Visit the ' +\n",
              "            '<a target=\"_blank\" href=https://colab.research.google.com/notebooks/data_table.ipynb>data table notebook</a>'\n",
              "            + ' to learn more about interactive tables.';\n",
              "          element.innerHTML = '';\n",
              "          dataTable['output_type'] = 'display_data';\n",
              "          await google.colab.output.renderOutput(dataTable, element);\n",
              "          const docLink = document.createElement('div');\n",
              "          docLink.innerHTML = docLinkHtml;\n",
              "          element.appendChild(docLink);\n",
              "        }\n",
              "      </script>\n",
              "    </div>\n",
              "  </div>\n",
              "  "
            ]
          },
          "metadata": {},
          "execution_count": 70
        }
      ]
    },
    {
      "cell_type": "code",
      "source": [
        "df1.groupby(['LIFESTAGE','PREMIUM_CUSTOMER','PROD_NAME'])['TOT_SALES'].sum().sort_values(ascending=False).head(1)"
      ],
      "metadata": {
        "colab": {
          "base_uri": "https://localhost:8080/"
        },
        "id": "Mt6nMkwTKW4m",
        "outputId": "e3ad68a1-db69-4c9f-c27b-10b3cb9b4333"
      },
      "execution_count": 71,
      "outputs": [
        {
          "output_type": "execute_result",
          "data": {
            "text/plain": [
              "LIFESTAGE              PREMIUM_CUSTOMER  PROD_NAME                             \n",
              "YOUNG SINGLES/COUPLES  Mainstream        Kettle Mozzarella   Basil & Pesto 175g    3358.8\n",
              "Name: TOT_SALES, dtype: float64"
            ]
          },
          "metadata": {},
          "execution_count": 71
        }
      ]
    },
    {
      "cell_type": "markdown",
      "source": [
        "\n",
        "Some of the relationships you observed in this part of the investigation:\n",
        "\n",
        "1. Kettle products are most popular among the most purchasing segment\n",
        "2. Most sales driving packet size is 135 which is bought mostly in 1 units or 2 units per transaction\n",
        "3. The best selling product among all Mainstream,budget,premium customers segments is Kettle Mozzarella Basil & Pesto 175g\n",
        "4. Most sales are made by OLDER FAMILIES in the budget segment,RETIREES,YOUNG SINGLES/COUPLES in Mainstream segment\n",
        "5. The most admired product is (Kettle Mozzarella Basil & Pestoamong) among Young singles/couples - Mainstream & Older Families Budget & Kettle Honey Soy Chicken among Retirees"
      ],
      "metadata": {
        "id": "g9Hx5QKXKhl8"
      }
    },
    {
      "cell_type": "markdown",
      "source": [
        "**Conclusions**\n",
        "\n",
        "\n",
        "Transactions are almost done on sunday since it's a vacation and everyone is free for shopping so the sales amount increases on that day, most of our sales in general are coming from singles/couples,retirees,older families they seem to admire chips more than younger people, most of them are from mainstream segment, people tend to like kettle chips more than any other chips,Kettle Mozzarella Basil & Pesto 175g has the highest sales record\n",
        "\n",
        "We have made further investigation to find more precise results and found out that the best customers that derive the highest amount of sales to us are older families in budget segment,Retirees & young singles/couples in Mainstream segment so we should increase our marketing effort towards them ,the most admired product for them is (Kettle Mozzarella Basil & Pesto 175 g)"
      ],
      "metadata": {
        "id": "t9JzgBk4K4Kv"
      }
    }
  ]
}